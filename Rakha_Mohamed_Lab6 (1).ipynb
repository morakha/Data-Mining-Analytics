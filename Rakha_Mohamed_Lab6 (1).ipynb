{
 "cells": [
  {
   "cell_type": "code",
   "execution_count": 1,
   "metadata": {
    "id": "IDlU-kLCKDVZ"
   },
   "outputs": [],
   "source": [
    "NAME = \"Mohamed Rakha\""
   ]
  },
  {
   "cell_type": "markdown",
   "metadata": {
    "id": "kW9zL4V6KDVc"
   },
   "source": [
    "---"
   ]
  },
  {
   "cell_type": "markdown",
   "metadata": {
    "deletable": false,
    "editable": false,
    "id": "ECD5r2hFKDVd",
    "nbgrader": {
     "checksum": "9a0ec075584699a44c46933457b0a8ba",
     "grade": false,
     "grade_id": "cell-a910b376742d04c0",
     "locked": true,
     "schema_version": 1,
     "solution": false
    }
   },
   "source": [
    "# Lab 6: Skip Gram\n",
    "\n",
    "**Please read the following instructions very carefully**\n",
    "\n",
    "## Working on the assignment / FAQs\n",
    "- **Always use the seed/random_state as *42* wherever applicable** (This is to ensure repeatability in answers, across students and coding environments) \n",
    "- The type of question and the points they carry are indicated in each question cell\n",
    "- To avoid any ambiguity, each question also specifies what *value* must be set. Note that these are dummy values and not the answers\n",
    "- If an autograded question has multiple answers (due to differences in handling NaNs, zeros etc.), all answers will be considered.\n",
    "- You can delete the `raise NotImplementedError()`\n",
    "- **Submitting the assignment** : Download the '.ipynb' file from Colab and upload it to bcourses. Do not delete any outputs from cells before submitting.\n",
    "- That's about it. Happy coding!\n",
    "\n",
    "\n",
    "Available software:\n",
    " - Python's Gensim module: https://radimrehurek.com/gensim/ (install using pip)\n",
    " - Sklearn’s  TSNE module in case you use TSNE to reduce dimension (optional)\n",
    " - Python’s Matplotlib (optional)\n",
    "\n",
    "_Note: The most important hyper parameters of skip-gram/CBOW are vector size and windows size_\n"
   ]
  },
  {
   "cell_type": "code",
   "execution_count": 2,
   "metadata": {
    "colab": {
     "base_uri": "https://localhost:8080/"
    },
    "deletable": false,
    "editable": false,
    "id": "Vsocwry-KDVe",
    "nbgrader": {
     "checksum": "a09a0bf3042da711c4bf843e9b4a4189",
     "grade": false,
     "grade_id": "cell-bf780e597c0216c8",
     "locked": true,
     "schema_version": 1,
     "solution": false
    },
    "outputId": "6690dcf2-6fdf-4703-83e0-f06d1205fde7"
   },
   "outputs": [
    {
     "name": "stdout",
     "output_type": "stream",
     "text": [
      "--2020-11-06 01:42:58--  https://s3.amazonaws.com/dl4j-distribution/GoogleNews-vectors-negative300.bin.gz\n",
      "Resolving s3.amazonaws.com (s3.amazonaws.com)... 52.216.105.29\n",
      "Connecting to s3.amazonaws.com (s3.amazonaws.com)|52.216.105.29|:443... connected.\n",
      "HTTP request sent, awaiting response... 200 OK\n",
      "Length: 1647046227 (1.5G) [application/x-gzip]\n",
      "Saving to: ‘GoogleNews-vectors-negative300.bin.gz’\n",
      "\n",
      "GoogleNews-vectors- 100%[===================>]   1.53G  16.9MB/s    in 97s     \n",
      "\n",
      "2020-11-06 01:44:35 (16.3 MB/s) - ‘GoogleNews-vectors-negative300.bin.gz’ saved [1647046227/1647046227]\n",
      "\n"
     ]
    }
   ],
   "source": [
    "#!pip install gensim\n",
    "!wget -nc https://s3.amazonaws.com/dl4j-distribution/GoogleNews-vectors-negative300.bin.gz \n",
    "\n",
    "\n",
    "import pandas as pd\n",
    "import numpy as np \n",
    "import gensim\n",
    "\n"
   ]
  },
  {
   "cell_type": "markdown",
   "metadata": {
    "deletable": false,
    "editable": false,
    "id": "ZF74G9bDKDVh",
    "nbgrader": {
     "checksum": "47031c66b74746d23ccc5e8369446a4b",
     "grade": false,
     "grade_id": "cell-3f89500615a0096f",
     "locked": true,
     "schema_version": 1,
     "solution": false
    }
   },
   "source": [
    "### **Q1 (1 point)** \n",
    "Find the cosine similarity between the following word pairs\n",
    "\n",
    "- (France, England)\n",
    "- (smaller, bigger)\n",
    "- (England, London)\n",
    "- (France, Rocket)\n",
    "- (big, bigger)"
   ]
  },
  {
   "cell_type": "code",
   "execution_count": 3,
   "metadata": {
    "colab": {
     "base_uri": "https://localhost:8080/"
    },
    "deletable": false,
    "id": "SZD5ZaMvKDVk",
    "nbgrader": {
     "checksum": "4d52dda406c3d8cd5e37d29755f0fb12",
     "grade": false,
     "grade_id": "cell-fbbe575f8f5a6368",
     "locked": false,
     "schema_version": 1,
     "solution": true
    },
    "outputId": "70084cb1-863e-4bc1-80d9-f9db1ec7b628"
   },
   "outputs": [
    {
     "name": "stderr",
     "output_type": "stream",
     "text": [
      "/usr/local/lib/python3.6/dist-packages/gensim/matutils.py:737: FutureWarning: Conversion of the second argument of issubdtype from `int` to `np.signedinteger` is deprecated. In future, it will be treated as `np.int64 == np.dtype(int).type`.\n",
      "  if np.issubdtype(vec.dtype, np.int):\n"
     ]
    }
   ],
   "source": [
    "#Replace 0 with the code / value; Do not delete this cell\n",
    "from gensim.models import KeyedVectors,Word2Vec\n",
    "model = KeyedVectors.load_word2vec_format('GoogleNews-vectors-negative300.bin.gz', binary=True)\n",
    "\n",
    "similarity_pair1 = model.similarity('France','England')\n",
    "similarity_pair2 = model.similarity('smaller','bigger')\n",
    "similarity_pair3 = model.similarity('England','London')\n",
    "similarity_pair4 = model.similarity('France','Rocket')\n",
    "similarity_pair5 = model.similarity('big','bigger')\n",
    "\n"
   ]
  },
  {
   "cell_type": "code",
   "execution_count": 4,
   "metadata": {
    "colab": {
     "base_uri": "https://localhost:8080/"
    },
    "deletable": false,
    "editable": false,
    "id": "tFUPLSK7KDVp",
    "nbgrader": {
     "checksum": "569aa8b664a41d901bf7b0a5e23e9930",
     "grade": true,
     "grade_id": "cell-929d59ed5d67f618",
     "locked": true,
     "points": 1,
     "schema_version": 1,
     "solution": false
    },
    "outputId": "013e4fb4-e06d-4ee3-e07d-4a03b336b759"
   },
   "outputs": [
    {
     "name": "stdout",
     "output_type": "stream",
     "text": [
      "0.39804944 0.7302272 0.43992856 0.07114174 0.68423855\n"
     ]
    }
   ],
   "source": [
    "#This is an autograded cell, do not edit/delete\n",
    "print(similarity_pair1, similarity_pair2, similarity_pair3, similarity_pair4, similarity_pair5)"
   ]
  },
  {
   "cell_type": "markdown",
   "metadata": {
    "deletable": false,
    "editable": false,
    "id": "ZcqpWCjJKDVs",
    "nbgrader": {
     "checksum": "a7f270405ddf9ecbffde36e6c096b818",
     "grade": false,
     "grade_id": "cell-ccd6618b4fac3715",
     "locked": true,
     "schema_version": 1,
     "solution": false
    }
   },
   "source": [
    "### **Q2 (1 point)** \n",
    "Write an expression to extract the vector representations of the words: \n",
    "\n",
    "- France\n",
    "- England\n",
    "- smaller\n",
    "- bigger\n",
    "- rocket\n",
    "- big\n",
    "\n",
    "Get only the first 5 elements for each vector representation."
   ]
  },
  {
   "cell_type": "code",
   "execution_count": 5,
   "metadata": {
    "deletable": false,
    "id": "6pzKlLyjKDVt",
    "nbgrader": {
     "checksum": "6b3cecb268eb9440c446cd3de984b7f6",
     "grade": false,
     "grade_id": "cell-00f3d05abb28aa23",
     "locked": false,
     "schema_version": 1,
     "solution": true
    }
   },
   "outputs": [],
   "source": [
    "#Replace 0 with the code / value to get the first 5 elements of each vector; Do not delete this cell\n",
    "vector_1 = model['France'][:5]\n",
    "vector_2 = model['England'][:5]\n",
    "vector_3 = model['smaller'][:5]\n",
    "vector_4 = model['bigger'][:5]\n",
    "vector_5 = model['rocket'][:5]\n",
    "vector_6 = model['big'][:5]\n"
   ]
  },
  {
   "cell_type": "code",
   "execution_count": 6,
   "metadata": {
    "colab": {
     "base_uri": "https://localhost:8080/"
    },
    "deletable": false,
    "editable": false,
    "id": "Hkj2ROGTKDVv",
    "nbgrader": {
     "checksum": "401940f859774b3c1ec48338fa15682e",
     "grade": true,
     "grade_id": "cell-6f34229370fa873f",
     "locked": true,
     "points": 1,
     "schema_version": 1,
     "solution": false
    },
    "outputId": "9833f061-8297-42b3-bc45-ce872739849f"
   },
   "outputs": [
    {
     "name": "stdout",
     "output_type": "stream",
     "text": [
      "[0.04858398 0.07861328 0.32421875 0.03491211 0.07714844]\n",
      "[-0.19824219  0.11523438  0.0625     -0.05834961  0.2265625 ]\n",
      "[-0.05004883  0.03417969 -0.0703125   0.17578125  0.00689697]\n",
      "[-0.06542969 -0.09521484 -0.06225586  0.16210938  0.01989746]\n",
      "[-0.03198242  0.27148438 -0.2890625  -0.15429688  0.16894531]\n",
      "[ 0.11132812  0.10595703 -0.07373047  0.18847656  0.07666016]\n"
     ]
    }
   ],
   "source": [
    "#This is an autograded cell, do not edit/delete\n",
    "print(vector_1)\n",
    "print(vector_2)\n",
    "print(vector_3)\n",
    "print(vector_4)\n",
    "print(vector_5)\n",
    "print(vector_6)\n"
   ]
  },
  {
   "cell_type": "markdown",
   "metadata": {
    "deletable": false,
    "editable": false,
    "id": "2UBnMwiXKDVy",
    "nbgrader": {
     "checksum": "ac8b42811c924e7988f17b9dbd3f71ef",
     "grade": false,
     "grade_id": "cell-4ad44071d3785409",
     "locked": true,
     "schema_version": 1,
     "solution": false
    }
   },
   "source": [
    "### **Q3 (1 point)** \n",
    "Find the euclidean distances between the word pairs : \n",
    "\n",
    "- (France, England)\n",
    "- (smaller, bigger)\n",
    "- (England, London)\n",
    "- (France, Rocket)\n",
    "- (big, bigger)\n"
   ]
  },
  {
   "cell_type": "code",
   "execution_count": 7,
   "metadata": {
    "deletable": false,
    "id": "zQGd-YVoKDV3",
    "nbgrader": {
     "checksum": "a771483fbb59086604eb84bcc7c7f0ad",
     "grade": false,
     "grade_id": "cell-3aba86afc0ebd8a8",
     "locked": false,
     "schema_version": 1,
     "solution": true
    }
   },
   "outputs": [],
   "source": [
    "#Replace 0 with the code / value; Do not delete this cell\n",
    "eu_dist1 = np.linalg.norm(model['France'] - model['England'])\n",
    "eu_dist2 = np.linalg.norm(model['smaller'] - model['bigger'])\n",
    "eu_dist3 = np.linalg.norm(model['England'] - model['London'])\n",
    "eu_dist4 = np.linalg.norm(model['France'] - model['Rocket'])\n",
    "eu_dist5 = np.linalg.norm(model['big'] - model['bigger'])\n",
    "\n"
   ]
  },
  {
   "cell_type": "code",
   "execution_count": 8,
   "metadata": {
    "colab": {
     "base_uri": "https://localhost:8080/"
    },
    "deletable": false,
    "editable": false,
    "id": "HsSg0l2UKDV6",
    "nbgrader": {
     "checksum": "17796eb5de342e8f8e841aa137a2c41c",
     "grade": true,
     "grade_id": "cell-15ffa50b82de21ad",
     "locked": true,
     "points": 1,
     "schema_version": 1,
     "solution": false
    },
    "outputId": "5f8b3d4f-14be-465b-836d-866d47934cf2"
   },
   "outputs": [
    {
     "name": "stdout",
     "output_type": "stream",
     "text": [
      "3.0151067\n",
      "1.8618743\n",
      "2.8752837\n",
      "3.892071\n",
      "1.9586496\n"
     ]
    }
   ],
   "source": [
    "#This is an autograded cell, do not edit / delete\n",
    "print(eu_dist1)\n",
    "print(eu_dist2)\n",
    "print(eu_dist3)\n",
    "print(eu_dist4)\n",
    "print(eu_dist5)\n"
   ]
  },
  {
   "cell_type": "markdown",
   "metadata": {
    "deletable": false,
    "editable": false,
    "id": "XvO2iU7QKDWA",
    "nbgrader": {
     "checksum": "afc0e843c7545e2df83448feda9f28f5",
     "grade": false,
     "grade_id": "cell-7cd8b9b67386376d",
     "locked": true,
     "schema_version": 1,
     "solution": false
    }
   },
   "source": [
    "### **Q4 (1 point)**\n",
    "Time to dabble with the power of Word2Vec. Find the 2 closest words  for the following conditions:  \n",
    "- (King - Man + Queen)\n",
    "- (bigger - big + small)\n",
    "- (waiting - wait + run)\n",
    "- (Texas + Milwaukee – Wisconsin)"
   ]
  },
  {
   "cell_type": "code",
   "execution_count": 9,
   "metadata": {
    "colab": {
     "base_uri": "https://localhost:8080/"
    },
    "deletable": false,
    "id": "jCxWmA1eKDWB",
    "nbgrader": {
     "checksum": "50ef096feb166865434fe2fca3d41f99",
     "grade": false,
     "grade_id": "cell-b72201968c5fd1ec",
     "locked": false,
     "schema_version": 1,
     "solution": true
    },
    "outputId": "9dfd81ee-42a7-44d2-cf8e-db1db068a36d"
   },
   "outputs": [
    {
     "name": "stderr",
     "output_type": "stream",
     "text": [
      "/usr/local/lib/python3.6/dist-packages/gensim/matutils.py:737: FutureWarning: Conversion of the second argument of issubdtype from `int` to `np.signedinteger` is deprecated. In future, it will be treated as `np.int64 == np.dtype(int).type`.\n",
      "  if np.issubdtype(vec.dtype, np.int):\n"
     ]
    }
   ],
   "source": [
    "#Replace 0 with the code / value; Do not delete this cell\n",
    "closest1 = model.most_similar(positive=['King','Queen'], negative=['Man'])[:2]\n",
    "closest2 = model.most_similar(positive=['bigger','small'], negative=['big'])[:2]\n",
    "closest3 = model.most_similar(positive=['waiting','run'], negative=['wait'])[:2]\n",
    "closest4 = model.most_similar(positive=['Texas','Milwaukee'], negative=['Wisconsin'])[:2]\n",
    "\n",
    "\n",
    "\n",
    "\n"
   ]
  },
  {
   "cell_type": "code",
   "execution_count": 11,
   "metadata": {
    "colab": {
     "base_uri": "https://localhost:8080/"
    },
    "deletable": false,
    "editable": false,
    "id": "io9elfD8KDWE",
    "nbgrader": {
     "checksum": "f9c5ff502264f29d2632c6387f92686a",
     "grade": true,
     "grade_id": "cell-b69718ab0e1470bc",
     "locked": true,
     "points": 1,
     "schema_version": 1,
     "solution": false
    },
    "outputId": "65d434cc-0ec4-4edc-cbe0-6ba54295ee7d"
   },
   "outputs": [
    {
     "name": "stdout",
     "output_type": "stream",
     "text": [
      "[('Queen_Elizabeth', 0.5257916450500488), ('monarch', 0.5004087090492249)]\n",
      "[('larger', 0.7402471899986267), ('smaller', 0.732999324798584)]\n",
      "[('running', 0.5654535889625549), ('runs', 0.49640005826950073)]\n",
      "[('Houston', 0.7767744064331055), ('Fort_Worth', 0.7270511388778687)]\n"
     ]
    }
   ],
   "source": [
    "#This is an autograded cell, do not edit/delete\n",
    "print(closest1)\n",
    "print(closest2)\n",
    "print(closest3)\n",
    "print(closest4)\n"
   ]
  },
  {
   "cell_type": "markdown",
   "metadata": {
    "deletable": false,
    "editable": false,
    "id": "erUu4u71KDWJ",
    "nbgrader": {
     "checksum": "6432058d78f4fa52224c48a3b3e71d0d",
     "grade": false,
     "grade_id": "cell-73dca0e2072fef91",
     "locked": true,
     "schema_version": 1,
     "solution": false
    }
   },
   "source": [
    "### **Q5 (3 points)**\n",
    "Using the vectors for the words in the Google News dataset, explore the semantic representation of these words through K-means clustering and explain your findings.\n",
    "\n",
    "*Note : Since there are ~3Mil words in the vocabulary, you can downsample it to ~20-30k randomly selected words*\n",
    "\n",
    "**Do not delete the below cell**"
   ]
  },
  {
   "cell_type": "code",
   "execution_count": 12,
   "metadata": {
    "colab": {
     "base_uri": "https://localhost:8080/",
     "height": 573
    },
    "deletable": false,
    "id": "M3jN02fOKDWK",
    "nbgrader": {
     "checksum": "7ecef46689f11d4d0a6fed72e049235f",
     "grade": true,
     "grade_id": "cell-80b177848b8b0212",
     "locked": false,
     "points": 3,
     "schema_version": 1,
     "solution": true
    },
    "outputId": "7069ffc4-68d8-4157-996e-0aa23547b846"
   },
   "outputs": [
    {
     "data": {
      "image/png": "[encoded data removed]",
      "text/plain": [
       "<Figure size 432x288 with 1 Axes>"
      ]
     },
     "metadata": {
      "needs_background": "light",
      "tags": []
     },
     "output_type": "display_data"
    },
    {
     "data": {
      "image/png": "[encoded data removed]",
      "text/plain": [
       "<Figure size 432x288 with 1 Axes>"
      ]
     },
     "metadata": {
      "needs_background": "light",
      "tags": []
     },
     "output_type": "display_data"
    }
   ],
   "source": [
    "# YOUR CODE HERE\n",
    "from random import sample\n",
    "from sklearn.cluster import KMeans \n",
    "from sklearn import metrics \n",
    "from scipy.spatial.distance import cdist \n",
    "import matplotlib.pyplot as plt  \n",
    "\n",
    "\n",
    "w = sample(list(model.vocab), 20000)\n",
    "\n",
    "X = np.array([model[i] for i in w])\n",
    "\n",
    "distortions = [] \n",
    "inertias = []\n",
    "K = range(1,10) \n",
    "  \n",
    "for k in K: \n",
    "    #Building and fitting the model \n",
    "    kmeanModel = KMeans(n_clusters=k).fit(X) \n",
    "    kmeanModel.fit(X)     \n",
    "      \n",
    "    distortions.append(sum(np.min(cdist(X, kmeanModel.cluster_centers_, \n",
    "                      'euclidean'),axis=1)) / X.shape[0])\n",
    "    inertias.append(kmeanModel.inertia_)   \n",
    "    \n",
    "plt.plot(K, distortions, 'bx-') \n",
    "plt.xlabel('Values of K') \n",
    "plt.ylabel('Distortion') \n",
    "plt.title('The Elbow Method using Distortion') \n",
    "plt.show();\n",
    "plt.figure()\n",
    "plt.plot(K, inertias, 'bx-') \n",
    "plt.xlabel('Values of K') \n",
    "plt.ylabel('Inertia') \n",
    "plt.title('The Elbow Method using Inertia') \n",
    "plt.show()"
   ]
  },
  {
   "cell_type": "markdown",
   "metadata": {
    "id": "tK5WlwAVtCrQ"
   },
   "source": [
    "Using the Elbow method, we can see that k=2 would produce the best clustering."
   ]
  },
  {
   "cell_type": "code",
   "execution_count": 13,
   "metadata": {
    "colab": {
     "base_uri": "https://localhost:8080/"
    },
    "id": "XAr2ffPpsT28",
    "outputId": "76ac9afb-2b0f-4b2e-d891-01b2e12d700c"
   },
   "outputs": [
    {
     "name": "stderr",
     "output_type": "stream",
     "text": [
      "/usr/local/lib/python3.6/dist-packages/gensim/matutils.py:737: FutureWarning: Conversion of the second argument of issubdtype from `int` to `np.signedinteger` is deprecated. In future, it will be treated as `np.int64 == np.dtype(int).type`.\n",
      "  if np.issubdtype(vec.dtype, np.int):\n"
     ]
    },
    {
     "name": "stdout",
     "output_type": "stream",
     "text": [
      "[('Emil_Protalinski_Published', 0.9208360910415649), ('By_HuDie_####-##-##', 0.9189769625663757), ('BY_GEOFF_KOHL', 0.9180129766464233), ('By_QianMian_####-##-##', 0.9176691770553589), ('By_XiaoBing_####-##-##', 0.9155663847923279), ('BY_DANNY_GALLAGHER', 0.9135993719100952), ('STACY_LEE', 0.9122923612594604), ('By_Riva_Froymovich', 0.9104891419410706), ('FOOD_OOH_IT', 0.909004807472229), ('REYNOLDS_GALLERY', 0.9080684185028076)]\n",
      "[('http_dol##.net_index###.html_http', 0.9168618321418762), ('dol##.net_index####.html_http_dol##.net', 0.907284140586853), ('index###.html_http_dol##.net_index###.html', 0.906091570854187), ('Deltagen_undertakes', 0.9056306481361389), ('By_TRICIA_SCRUGGS', 0.9006041288375854), ('BY_STEFANIE_WHITE', 0.8992483615875244), ('Manufacturing_bioplastics', 0.8988685011863708), ('PRESCRIPTION_DRUGS_Gradually', 0.8966537117958069), ('http_dol##.net_index####.html_http', 0.8959100842475891), ('SIX_ROG_VX', 0.8955453038215637)]\n"
     ]
    }
   ],
   "source": [
    "kmeans = KMeans(n_clusters = 2)\n",
    "kmeans.fit(X)\n",
    "\n",
    "cluster_1 = model.similar_by_vector(kmeans.cluster_centers_[0])[:10]\n",
    "cluster_2 = model.similar_by_vector(kmeans.cluster_centers_[1])[:10]\n",
    "print(cluster_1)\n",
    "print(cluster_2)"
   ]
  },
  {
   "cell_type": "markdown",
   "metadata": {
    "id": "Eu3JP0KctPon"
   },
   "source": [
    "The first cluster seems to be authors/publishers. The second cluster seems to be more random, which is expected using a bunch of random words that must be clustered into 2 clusters only."
   ]
  },
  {
   "cell_type": "markdown",
   "metadata": {
    "deletable": false,
    "editable": false,
    "id": "rmdtLoHkKDWR",
    "nbgrader": {
     "checksum": "0467b27a0f59504cbb62b851a002386f",
     "grade": false,
     "grade_id": "cell-5b2a5e8ff6c74323",
     "locked": true,
     "schema_version": 1,
     "solution": false
    }
   },
   "source": [
    "### **Q6 (1 point)**\n",
    "What loss function does the skipgram model use and briefly describe what this function is minimizing.\n",
    "\n",
    "**Do not delete the below cell**"
   ]
  },
  {
   "cell_type": "code",
   "execution_count": 14,
   "metadata": {
    "deletable": false,
    "id": "SyOASYXOKDWS",
    "nbgrader": {
     "checksum": "774aef2c5bf8ef9d92e3489d1cd80390",
     "grade": true,
     "grade_id": "cell-90cc4b2c0ae8e2c2",
     "locked": false,
     "points": 1,
     "schema_version": 1,
     "solution": true
    }
   },
   "outputs": [],
   "source": [
    "# YOUR CODE HERE\n",
    "# The loss function the model uses is an entropy loss function. It uses stochastic gradient descent to\n",
    "# optimize the objective function."
   ]
  },
  {
   "cell_type": "markdown",
   "metadata": {
    "deletable": false,
    "editable": false,
    "id": "dbpuJx9CKDWV",
    "nbgrader": {
     "checksum": "c14f6069f64cc86ab6e384d28df270d8",
     "grade": false,
     "grade_id": "cell-74a177caaabb5009",
     "locked": true,
     "schema_version": 1,
     "solution": false
    }
   },
   "source": [
    "### **Bonus Question (1 point)** \n",
    "Find at least 2 interesting word vec combinations like the ones given in Q4\n",
    "\n",
    "**Do not delete the below cell**"
   ]
  },
  {
   "cell_type": "code",
   "execution_count": 15,
   "metadata": {
    "colab": {
     "base_uri": "https://localhost:8080/"
    },
    "deletable": false,
    "id": "pQM8C_T7KDWW",
    "nbgrader": {
     "checksum": "c2d42b5327f4b020c7e1706506dd5ce9",
     "grade": true,
     "grade_id": "cell-7351297993d72e83",
     "locked": false,
     "points": 1,
     "schema_version": 1,
     "solution": true
    },
    "outputId": "6256ab92-1601-457c-abd4-a813a52fa474"
   },
   "outputs": [
    {
     "name": "stderr",
     "output_type": "stream",
     "text": [
      "/usr/local/lib/python3.6/dist-packages/gensim/matutils.py:737: FutureWarning: Conversion of the second argument of issubdtype from `int` to `np.signedinteger` is deprecated. In future, it will be treated as `np.int64 == np.dtype(int).type`.\n",
      "  if np.issubdtype(vec.dtype, np.int):\n"
     ]
    },
    {
     "name": "stdout",
     "output_type": "stream",
     "text": [
      "[('UC_Berkeley', 0.5877782702445984), ('Harvard', 0.5630755424499512)]\n",
      "[('social_networking', 0.6394062042236328), ('Gmail', 0.6102304458618164)]\n"
     ]
    }
   ],
   "source": [
    "# YOUR CODE HERE\n",
    "print(model.most_similar(positive=['Berkeley','Stanford'], negative=['Los_Angeles'])[:2])\n",
    "print(model.most_similar(positive=['Google','Facebook'], negative=['Amazon'])[:2])"
   ]
  },
  {
   "cell_type": "markdown",
   "metadata": {
    "id": "mzd163wpPN0_"
   },
   "source": [
    "### **Lab 6b**\n",
    "\n",
    "1. Generate embeddings from the corpus you have chosen.\n",
    "\n",
    "\n"
   ]
  },
  {
   "cell_type": "code",
   "execution_count": 16,
   "metadata": {
    "colab": {
     "base_uri": "https://localhost:8080/"
    },
    "id": "2f-VQ8DNPc2Z",
    "outputId": "423aec41-4766-43ae-cc0e-3b646c87fe5d"
   },
   "outputs": [
    {
     "name": "stdout",
     "output_type": "stream",
     "text": [
      "[nltk_data] Downloading package punkt to /root/nltk_data...\n",
      "[nltk_data]   Unzipping tokenizers/punkt.zip.\n"
     ]
    },
    {
     "data": {
      "text/plain": [
       "True"
      ]
     },
     "execution_count": 16,
     "metadata": {
      "tags": []
     },
     "output_type": "execute_result"
    }
   ],
   "source": [
    "import os\n",
    "import string\n",
    "import pandas as pd\n",
    "import numpy as np\n",
    "import re\n",
    "import pprint\n",
    "from urllib.request import urlopen\n",
    "\n",
    "import gensim\n",
    "from gensim import corpora, models, similarities\n",
    "import nltk\n",
    "from nltk import word_tokenize, tokenize\n",
    "nltk.download('punkt')"
   ]
  },
  {
   "cell_type": "code",
   "execution_count": 18,
   "metadata": {
    "id": "wd7hIdGJQxYZ"
   },
   "outputs": [],
   "source": [
    "url = \"http://www.gutenberg.org/files/1342/1342-0.txt\" ## Pride and Prehudice raw text\n",
    "resp = urlopen(url)\n",
    "raw = resp.read().decode('utf8')\n",
    "firstlook = tokenize.sent_tokenize(raw)"
   ]
  },
  {
   "cell_type": "code",
   "execution_count": 19,
   "metadata": {
    "colab": {
     "base_uri": "https://localhost:8080/",
     "height": 35
    },
    "id": "CGTjA7ceQ2dL",
    "outputId": "dc98cd67-b762-40a3-da83-4d4fca2cd2d9"
   },
   "outputs": [
    {
     "data": {
      "application/vnd.google.colaboratory.intrinsic+json": {
       "type": "string"
      },
      "text/plain": [
       "'\\ufeff\\r\\nThe Project Gutenberg EBook of Pride and Prejudice, by Jane Austen\\r\\n\\r\\nThis eBook is for the use o'"
      ]
     },
     "execution_count": 19,
     "metadata": {
      "tags": []
     },
     "output_type": "execute_result"
    }
   ],
   "source": [
    "raw[:100]"
   ]
  },
  {
   "cell_type": "code",
   "execution_count": 20,
   "metadata": {
    "id": "akAs_hXfTRlw"
   },
   "outputs": [],
   "source": [
    "pattern = r'''(?x)  # set flag to allow verbose regexps\n",
    "(?:[A-Z]\\.)+        # abbreviations, e.g. U.S.A.\n",
    "|\\w+(?:[-']\\w+)*    # words with optional internal hyphens\n",
    "|\\$?\\d+(?:\\.\\d+)?   # currency, e.g. $12.80 \n",
    "|\\.\\.\\.             # elipses\n",
    "|[.,;\"'?()-_`]      # these are separate tokens\n",
    "'''\n",
    "tokenized_raw = \" \".join(nltk.regexp_tokenize(raw, pattern))\n",
    "tokenized_raw = tokenize.sent_tokenize(tokenized_raw)"
   ]
  },
  {
   "cell_type": "code",
   "execution_count": 21,
   "metadata": {
    "colab": {
     "base_uri": "https://localhost:8080/"
    },
    "id": "fZz7MQt5TWKc",
    "outputId": "a22b38f1-38c0-4639-d6be-6d4525bd784c"
   },
   "outputs": [
    {
     "data": {
      "text/plain": [
       "['The Project Gutenberg EBook of Pride and Prejudice , by Jane Austen This eBook is for the use of anyone anywhere at no cost and with almost no restrictions whatsoever .',\n",
       " 'You may copy it , give it away or re-use it under the terms of the Project Gutenberg License included with this eBook or online at www .',\n",
       " 'gutenberg .',\n",
       " 'org Title : Pride and Prejudice Author : Jane Austen Release Date : August 26 , 2008 [ EBook 1342 ] Last Updated : November 12 , 2019 Language : English Character set encoding : UTF-8 * * * START OF THIS PROJECT GUTENBERG EBOOK PRIDE AND PREJUDICE * * * Produced by Anonymous Volunteers , and David Widger THERE IS AN ILLUSTRATED EDITION OF THIS TITLE WHICH MAY VIEWED AT EBOOK [ 42671 ] cover Pride and Prejudice By Jane Austen CONTENTS Chapter 1 Chapter 2 Chapter 3 Chapter 4 Chapter 5 Chapter 6 Chapter 7 Chapter 8 Chapter 9 Chapter 10 Chapter 11 Chapter 12 Chapter 13 Chapter 14 Chapter 15 Chapter 16 Chapter 17 Chapter 18 Chapter 19 Chapter 20 Chapter 21 Chapter 22 Chapter 23 Chapter 24 Chapter 25 Chapter 26 Chapter 27 Chapter 28 Chapter 29 Chapter 30 Chapter 31 Chapter 32 Chapter 33 Chapter 34 Chapter 35 Chapter 36 Chapter 37 Chapter 38 Chapter 39 Chapter 40 Chapter 41 Chapter 42 Chapter 43 Chapter 44 Chapter 45 Chapter 46 Chapter 47 Chapter 48 Chapter 49 Chapter 50 Chapter 51 Chapter 52 Chapter 53 Chapter 54 Chapter 55 Chapter 56 Chapter 57 Chapter 58 Chapter 59 Chapter 60 Chapter 61 Chapter 1 It is a truth universally acknowledged , that a single man in possession of a good fortune , must be in want of a wife .',\n",
       " 'However little known the feelings or views of such a man may be on his first entering a neighbourhood , this truth is so well fixed in the minds of the surrounding families , that he is considered the rightful property of some one or other of their daughters .',\n",
       " 'My dear Mr .',\n",
       " 'Bennet , said his lady to him one day , have you heard that Netherfield Park is let at last ?',\n",
       " 'Mr .',\n",
       " 'Bennet replied that he had not .',\n",
       " 'But it is , returned she ; for Mrs .']"
      ]
     },
     "execution_count": 21,
     "metadata": {
      "tags": []
     },
     "output_type": "execute_result"
    }
   ],
   "source": [
    "tokenized_raw[:10]"
   ]
  },
  {
   "cell_type": "code",
   "execution_count": 22,
   "metadata": {
    "id": "uB-JORjmTY0L"
   },
   "outputs": [],
   "source": [
    "# Remove punctuations\n",
    "nopunct = []\n",
    "for sent in tokenized_raw:\n",
    "    a = [w for w in sent.split() if w not in string.punctuation]\n",
    "    nopunct.append(\" \".join(a))"
   ]
  },
  {
   "cell_type": "code",
   "execution_count": 23,
   "metadata": {
    "colab": {
     "base_uri": "https://localhost:8080/"
    },
    "id": "sX4m8vLCTlX8",
    "outputId": "93e66620-638f-4729-cc92-6ab8e4997050"
   },
   "outputs": [
    {
     "data": {
      "text/plain": [
       "[['The',\n",
       "  'Project',\n",
       "  'Gutenberg',\n",
       "  'EBook',\n",
       "  'of',\n",
       "  'Pride',\n",
       "  'and',\n",
       "  'Prejudice',\n",
       "  'by',\n",
       "  'Jane',\n",
       "  'Austen',\n",
       "  'This',\n",
       "  'eBook',\n",
       "  'is',\n",
       "  'for',\n",
       "  'the',\n",
       "  'use',\n",
       "  'of',\n",
       "  'anyone',\n",
       "  'anywhere',\n",
       "  'at',\n",
       "  'no',\n",
       "  'cost',\n",
       "  'and',\n",
       "  'with',\n",
       "  'almost',\n",
       "  'no',\n",
       "  'restrictions',\n",
       "  'whatsoever'],\n",
       " ['You',\n",
       "  'may',\n",
       "  'copy',\n",
       "  'it',\n",
       "  'give',\n",
       "  'it',\n",
       "  'away',\n",
       "  'or',\n",
       "  're-use',\n",
       "  'it',\n",
       "  'under',\n",
       "  'the',\n",
       "  'terms',\n",
       "  'of',\n",
       "  'the',\n",
       "  'Project',\n",
       "  'Gutenberg',\n",
       "  'License',\n",
       "  'included',\n",
       "  'with',\n",
       "  'this',\n",
       "  'eBook',\n",
       "  'or',\n",
       "  'online',\n",
       "  'at',\n",
       "  'www'],\n",
       " ['gutenberg']]"
      ]
     },
     "execution_count": 23,
     "metadata": {
      "tags": []
     },
     "output_type": "execute_result"
    }
   ],
   "source": [
    "tok_corp = [nltk.word_tokenize(sent) for sent in nopunct]\n",
    "tok_corp[:3]"
   ]
  },
  {
   "cell_type": "code",
   "execution_count": 24,
   "metadata": {
    "colab": {
     "base_uri": "https://localhost:8080/"
    },
    "id": "U5dUlXE1TocP",
    "outputId": "8ac7112c-e6c1-44bc-c0a1-412bee01faef"
   },
   "outputs": [
    {
     "data": {
      "text/plain": [
       "7391"
      ]
     },
     "execution_count": 24,
     "metadata": {
      "tags": []
     },
     "output_type": "execute_result"
    }
   ],
   "source": [
    "### Creating a list of unique words \n",
    "unique_words = list(set([item for sublist in tok_corp for item in sublist]))\n",
    "len(unique_words)"
   ]
  },
  {
   "cell_type": "code",
   "execution_count": 25,
   "metadata": {
    "colab": {
     "base_uri": "https://localhost:8080/"
    },
    "id": "iIpfV8PmTt8C",
    "outputId": "417f933b-53a9-4447-c2c0-9151bad16589"
   },
   "outputs": [
    {
     "name": "stderr",
     "output_type": "stream",
     "text": [
      "/usr/local/lib/python3.6/dist-packages/ipykernel_launcher.py:2: DeprecationWarning: Call to deprecated `__getitem__` (Method will be removed in 4.0.0, use self.wv.__getitem__() instead).\n",
      "  \n"
     ]
    }
   ],
   "source": [
    "model = gensim.models.Word2Vec(tok_corp, min_count=1, size=16, window=5)\n",
    "vector_list = model[unique_words]"
   ]
  },
  {
   "cell_type": "markdown",
   "metadata": {
    "id": "0RPrGDT6moVy"
   },
   "source": [
    "2. Based on your knowledge and understand of the text corpus you have chosen, form 3 hypotheses of analogies or relationships you expect will hold and give a reason why. Experimentally validate these hypotheses. (e.g., if using Moby Dick as the corpus, one hypothesis might be that the whale, \"Mobie Dick\" is (cosine) more similar to \"good\" than to \"evil\" and is more similar to \"opposition\" than to \"mystery\")"
   ]
  },
  {
   "cell_type": "code",
   "execution_count": 32,
   "metadata": {
    "colab": {
     "base_uri": "https://localhost:8080/"
    },
    "id": "BfRbhgEdV431",
    "outputId": "49c167ea-dbd5-4d34-e254-2cc501b3614e"
   },
   "outputs": [
    {
     "name": "stdout",
     "output_type": "stream",
     "text": [
      "1) 0.826119\n",
      "0.9731325\n",
      "2) 0.95735455\n",
      "0.96908617\n",
      "3) 0.9850125\n",
      "0.9943616\n"
     ]
    },
    {
     "name": "stderr",
     "output_type": "stream",
     "text": [
      "/usr/local/lib/python3.6/dist-packages/ipykernel_launcher.py:4: DeprecationWarning: Call to deprecated `similarity` (Method will be removed in 4.0.0, use self.wv.similarity() instead).\n",
      "  after removing the cwd from sys.path.\n",
      "/usr/local/lib/python3.6/dist-packages/gensim/matutils.py:737: FutureWarning: Conversion of the second argument of issubdtype from `int` to `np.signedinteger` is deprecated. In future, it will be treated as `np.int64 == np.dtype(int).type`.\n",
      "  if np.issubdtype(vec.dtype, np.int):\n",
      "/usr/local/lib/python3.6/dist-packages/ipykernel_launcher.py:5: DeprecationWarning: Call to deprecated `similarity` (Method will be removed in 4.0.0, use self.wv.similarity() instead).\n",
      "  \"\"\"\n",
      "/usr/local/lib/python3.6/dist-packages/ipykernel_launcher.py:8: DeprecationWarning: Call to deprecated `similarity` (Method will be removed in 4.0.0, use self.wv.similarity() instead).\n",
      "  \n",
      "/usr/local/lib/python3.6/dist-packages/ipykernel_launcher.py:9: DeprecationWarning: Call to deprecated `similarity` (Method will be removed in 4.0.0, use self.wv.similarity() instead).\n",
      "  if __name__ == '__main__':\n",
      "/usr/local/lib/python3.6/dist-packages/ipykernel_launcher.py:12: DeprecationWarning: Call to deprecated `similarity` (Method will be removed in 4.0.0, use self.wv.similarity() instead).\n",
      "  if sys.path[0] == '':\n",
      "/usr/local/lib/python3.6/dist-packages/ipykernel_launcher.py:13: DeprecationWarning: Call to deprecated `similarity` (Method will be removed in 4.0.0, use self.wv.similarity() instead).\n",
      "  del sys.path[0]\n"
     ]
    }
   ],
   "source": [
    "# 3 Hypotheses - Pride and Prejudice\n",
    "\n",
    "#1) Elizabeth = smart/clever\n",
    "print('1)' , model.similarity('Elizabeth', 'smart')) # 0.826119\n",
    "print(model.similarity('Elizabeth', 'clever'))       # 0.9731325\n",
    "\n",
    "#2) Darcy = rich\n",
    "print('2)' , model.similarity('Darcy', 'rich'))      # 0.95735455\n",
    "print(model.similarity('Darcy', 'wealth'))           # 0.96908617\n",
    "\n",
    "#3) Jane = gentle/nice\n",
    "print('3)' , model.similarity('Jane', 'gentle'))     # 0.9850125\n",
    "print(model.similarity('Jane', 'beautiful'))         # 0.9943616"
   ]
  },
  {
   "cell_type": "markdown",
   "metadata": {
    "id": "qnEi-QWImwMf"
   },
   "source": [
    "3. Use T-SNE or PCA to reduce the dimensionality of the vectors to two dimensions for:\n",
    "\n",
    "GoogleNews corpus pre-trained vectors:"
   ]
  },
  {
   "cell_type": "code",
   "execution_count": 34,
   "metadata": {
    "colab": {
     "base_uri": "https://localhost:8080/"
    },
    "id": "JCDATS5_ZjDm",
    "outputId": "216e57ac-1305-46c2-96fc-716fb5a1f3d6"
   },
   "outputs": [
    {
     "name": "stderr",
     "output_type": "stream",
     "text": [
      "/usr/local/lib/python3.6/dist-packages/ipykernel_launcher.py:2: DeprecationWarning: Call to deprecated `wv` (Attribute will be removed in 4.0.0, use self instead).\n",
      "  \n"
     ]
    },
    {
     "name": "stdout",
     "output_type": "stream",
     "text": [
      "[t-SNE] Computing 151 nearest neighbors...\n",
      "[t-SNE] Indexed 20000 samples in 0.989s...\n",
      "[t-SNE] Computed neighbors for 20000 samples in 362.154s...\n",
      "[t-SNE] Computed conditional probabilities for sample 1000 / 20000\n",
      "[t-SNE] Computed conditional probabilities for sample 2000 / 20000\n",
      "[t-SNE] Computed conditional probabilities for sample 3000 / 20000\n",
      "[t-SNE] Computed conditional probabilities for sample 4000 / 20000\n",
      "[t-SNE] Computed conditional probabilities for sample 5000 / 20000\n",
      "[t-SNE] Computed conditional probabilities for sample 6000 / 20000\n",
      "[t-SNE] Computed conditional probabilities for sample 7000 / 20000\n",
      "[t-SNE] Computed conditional probabilities for sample 8000 / 20000\n",
      "[t-SNE] Computed conditional probabilities for sample 9000 / 20000\n",
      "[t-SNE] Computed conditional probabilities for sample 10000 / 20000\n",
      "[t-SNE] Computed conditional probabilities for sample 11000 / 20000\n",
      "[t-SNE] Computed conditional probabilities for sample 12000 / 20000\n",
      "[t-SNE] Computed conditional probabilities for sample 13000 / 20000\n",
      "[t-SNE] Computed conditional probabilities for sample 14000 / 20000\n",
      "[t-SNE] Computed conditional probabilities for sample 15000 / 20000\n",
      "[t-SNE] Computed conditional probabilities for sample 16000 / 20000\n",
      "[t-SNE] Computed conditional probabilities for sample 17000 / 20000\n",
      "[t-SNE] Computed conditional probabilities for sample 18000 / 20000\n",
      "[t-SNE] Computed conditional probabilities for sample 19000 / 20000\n",
      "[t-SNE] Computed conditional probabilities for sample 20000 / 20000\n",
      "[t-SNE] Mean sigma: 0.993958\n",
      "[t-SNE] Computed conditional probabilities in 1.755s\n",
      "[t-SNE] Iteration 50: error = 101.7707062, gradient norm = 0.1109431 (50 iterations in 20.085s)\n",
      "[t-SNE] Iteration 100: error = 104.3714066, gradient norm = 0.0765311 (50 iterations in 18.946s)\n",
      "[t-SNE] Iteration 150: error = 104.8000336, gradient norm = 0.0520834 (50 iterations in 19.650s)\n",
      "[t-SNE] Iteration 200: error = 104.3593445, gradient norm = 0.0668784 (50 iterations in 17.691s)\n",
      "[t-SNE] Iteration 250: error = 104.2616119, gradient norm = 0.0838349 (50 iterations in 16.833s)\n",
      "[t-SNE] KL divergence after 250 iterations with early exaggeration: 104.261612\n",
      "[t-SNE] Iteration 300: error = 4.6227484, gradient norm = 0.0043994 (50 iterations in 17.042s)\n",
      "[t-SNE] Iteration 350: error = 4.0702405, gradient norm = 0.0006291 (50 iterations in 17.957s)\n",
      "[t-SNE] Iteration 400: error = 3.8173032, gradient norm = 0.0003892 (50 iterations in 17.567s)\n",
      "[t-SNE] Iteration 450: error = 3.6488256, gradient norm = 0.0002869 (50 iterations in 17.305s)\n",
      "[t-SNE] Iteration 500: error = 3.5075455, gradient norm = 0.0002666 (50 iterations in 16.901s)\n",
      "[t-SNE] Iteration 550: error = 3.2998893, gradient norm = 0.0012287 (50 iterations in 14.092s)\n",
      "[t-SNE] Iteration 600: error = 3.2372718, gradient norm = 0.0001625 (50 iterations in 12.682s)\n",
      "[t-SNE] Iteration 650: error = 3.1891825, gradient norm = 0.0001121 (50 iterations in 12.693s)\n",
      "[t-SNE] Iteration 700: error = 3.1478004, gradient norm = 0.0000957 (50 iterations in 12.828s)\n",
      "[t-SNE] Iteration 750: error = 3.1122441, gradient norm = 0.0000835 (50 iterations in 12.710s)\n",
      "[t-SNE] Iteration 800: error = 3.0815589, gradient norm = 0.0000738 (50 iterations in 12.815s)\n",
      "[t-SNE] Iteration 850: error = 3.0544906, gradient norm = 0.0000692 (50 iterations in 12.775s)\n",
      "[t-SNE] Iteration 900: error = 3.0307603, gradient norm = 0.0000609 (50 iterations in 12.771s)\n",
      "[t-SNE] Iteration 950: error = 3.0099134, gradient norm = 0.0000561 (50 iterations in 12.817s)\n",
      "[t-SNE] Iteration 1000: error = 2.9915245, gradient norm = 0.0000522 (50 iterations in 12.850s)\n",
      "[t-SNE] KL divergence after 1000 iterations: 2.991524\n"
     ]
    }
   ],
   "source": [
    "model2 = KeyedVectors.load_word2vec_format('GoogleNews-vectors-negative300.bin.gz', binary=True)\n",
    "model20k = model2.wv.index2entity[:20000]\n",
    "model2_vectors = model2[model20k]\n",
    "data_embed2=TSNE(n_components=2, perplexity=50, verbose=2, method='barnes_hut').fit_transform(model2_vectors)"
   ]
  },
  {
   "cell_type": "code",
   "execution_count": 35,
   "metadata": {
    "colab": {
     "base_uri": "https://localhost:8080/",
     "height": 265
    },
    "id": "VmRIDwa-awqB",
    "outputId": "3ed39bc6-3c76-47bc-fc77-d60794e0f73e"
   },
   "outputs": [
    {
     "data": {
      "image/png": "[encoded data removed]",
      "text/plain": [
       "<Figure size 432x288 with 1 Axes>"
      ]
     },
     "metadata": {
      "needs_background": "light",
      "tags": []
     },
     "output_type": "display_data"
    }
   ],
   "source": [
    "x_axis2= data_embed2[:,0]\n",
    "y_axis2=data_embed2[:,1]\n",
    "\n",
    "plt.scatter(x_axis2, y_axis2, s=5)\n",
    "plt.show()"
   ]
  },
  {
   "cell_type": "markdown",
   "metadata": {
    "id": "PPf938sznAAx"
   },
   "source": [
    "The embeddings you just generated:"
   ]
  },
  {
   "cell_type": "code",
   "execution_count": 26,
   "metadata": {
    "colab": {
     "base_uri": "https://localhost:8080/"
    },
    "id": "8jIiJ3dGUIzj",
    "outputId": "e46908f0-ad5f-4625-b511-1cd07cd63af3"
   },
   "outputs": [
    {
     "name": "stdout",
     "output_type": "stream",
     "text": [
      "[t-SNE] Computing 151 nearest neighbors...\n",
      "[t-SNE] Indexed 7391 samples in 0.019s...\n",
      "[t-SNE] Computed neighbors for 7391 samples in 1.082s...\n",
      "[t-SNE] Computed conditional probabilities for sample 1000 / 7391\n",
      "[t-SNE] Computed conditional probabilities for sample 2000 / 7391\n",
      "[t-SNE] Computed conditional probabilities for sample 3000 / 7391\n",
      "[t-SNE] Computed conditional probabilities for sample 4000 / 7391\n",
      "[t-SNE] Computed conditional probabilities for sample 5000 / 7391\n",
      "[t-SNE] Computed conditional probabilities for sample 6000 / 7391\n",
      "[t-SNE] Computed conditional probabilities for sample 7000 / 7391\n",
      "[t-SNE] Computed conditional probabilities for sample 7391 / 7391\n",
      "[t-SNE] Mean sigma: 0.029989\n",
      "[t-SNE] Computed conditional probabilities in 0.901s\n",
      "[t-SNE] Iteration 50: error = 87.0184326, gradient norm = 0.0189651 (50 iterations in 4.015s)\n",
      "[t-SNE] Iteration 100: error = 78.0575104, gradient norm = 0.0032036 (50 iterations in 3.193s)\n",
      "[t-SNE] Iteration 150: error = 77.5124283, gradient norm = 0.0021551 (50 iterations in 2.938s)\n",
      "[t-SNE] Iteration 200: error = 77.2914734, gradient norm = 0.0011905 (50 iterations in 2.947s)\n",
      "[t-SNE] Iteration 250: error = 77.1484604, gradient norm = 0.0007943 (50 iterations in 2.943s)\n",
      "[t-SNE] KL divergence after 250 iterations with early exaggeration: 77.148460\n",
      "[t-SNE] Iteration 300: error = 2.8201642, gradient norm = 0.0011122 (50 iterations in 3.181s)\n",
      "[t-SNE] Iteration 350: error = 2.5743194, gradient norm = 0.0004338 (50 iterations in 3.299s)\n",
      "[t-SNE] Iteration 400: error = 2.4622283, gradient norm = 0.0002574 (50 iterations in 3.273s)\n",
      "[t-SNE] Iteration 450: error = 2.3956625, gradient norm = 0.0001729 (50 iterations in 3.300s)\n",
      "[t-SNE] Iteration 500: error = 2.3514833, gradient norm = 0.0001275 (50 iterations in 3.312s)\n",
      "[t-SNE] Iteration 550: error = 2.3200340, gradient norm = 0.0001002 (50 iterations in 3.269s)\n",
      "[t-SNE] Iteration 600: error = 2.2971950, gradient norm = 0.0000830 (50 iterations in 3.273s)\n",
      "[t-SNE] Iteration 650: error = 2.2800767, gradient norm = 0.0000714 (50 iterations in 3.301s)\n",
      "[t-SNE] Iteration 700: error = 2.2675886, gradient norm = 0.0000642 (50 iterations in 3.273s)\n",
      "[t-SNE] Iteration 750: error = 2.2581224, gradient norm = 0.0000615 (50 iterations in 3.323s)\n",
      "[t-SNE] Iteration 800: error = 2.2515306, gradient norm = 0.0000559 (50 iterations in 3.345s)\n",
      "[t-SNE] Iteration 850: error = 2.2467012, gradient norm = 0.0000558 (50 iterations in 3.306s)\n",
      "[t-SNE] Iteration 900: error = 2.2434435, gradient norm = 0.0000521 (50 iterations in 3.327s)\n",
      "[t-SNE] Iteration 950: error = 2.2406952, gradient norm = 0.0000501 (50 iterations in 3.406s)\n",
      "[t-SNE] Iteration 1000: error = 2.2381465, gradient norm = 0.0000455 (50 iterations in 3.359s)\n",
      "[t-SNE] KL divergence after 1000 iterations: 2.238147\n"
     ]
    }
   ],
   "source": [
    "from sklearn.manifold import TSNE\n",
    "\n",
    "# Lets dim reduce the 16 dimension vectors to 2 dimensions to vizualise the dataset \n",
    "data_embed=TSNE(n_components=2, perplexity=50, verbose=2, method='barnes_hut').fit_transform(vector_list)\n",
    "\n",
    "\n",
    "## Parameters\n",
    "## n_components = number of dimensions you want your data to be reduced\n",
    "## preplexity =  Number of neighboours to fit the gaussian , normally 30 "
   ]
  },
  {
   "cell_type": "code",
   "execution_count": 27,
   "metadata": {
    "id": "64VjZJatUS_M"
   },
   "outputs": [],
   "source": [
    "## Vizualise\n",
    "%matplotlib inline\n",
    "from matplotlib import pyplot as plt"
   ]
  },
  {
   "cell_type": "code",
   "execution_count": 28,
   "metadata": {
    "colab": {
     "base_uri": "https://localhost:8080/",
     "height": 265
    },
    "id": "JK88PTmgUnyo",
    "outputId": "f8b3954e-7442-4ca0-81ba-a1bdc607be37"
   },
   "outputs": [
    {
     "data": {
      "image/png": "[encoded data removed]",
      "text/plain": [
       "<Figure size 432x288 with 1 Axes>"
      ]
     },
     "metadata": {
      "needs_background": "light",
      "tags": []
     },
     "output_type": "display_data"
    }
   ],
   "source": [
    "x_axis= data_embed[:,0]\n",
    "y_axis=data_embed[:,1]\n",
    "\n",
    "plt.scatter(x_axis, y_axis, s=5)\n",
    "plt.show()"
   ]
  },
  {
   "cell_type": "markdown",
   "metadata": {
    "id": "p1uZ5UTYwXow"
   },
   "source": [
    "Words are not as evenly scattered as the Google model and are therefore generally related to one another with an interesting pattern perhaps due to the contexts of the words.  "
   ]
  },
  {
   "cell_type": "code",
   "execution_count": 43,
   "metadata": {
    "id": "y8_pbdzVUqW9"
   },
   "outputs": [],
   "source": [
    "import pandas as pd\n",
    "\n",
    "df = pd.DataFrame(data_embed)\n",
    "df['words'] = unique_words\n",
    "df = df.rename(columns = {0: 'x', 1: 'y'})\n",
    "df.to_csv('tsvfile.tsv', sep='\\t', index=False)"
   ]
  },
  {
   "cell_type": "code",
   "execution_count": 44,
   "metadata": {
    "id": "I_3fjxL2gRSM"
   },
   "outputs": [],
   "source": [
    "from google.colab.output import eval_js\n",
    "from IPython.display import Javascript"
   ]
  },
  {
   "cell_type": "code",
   "execution_count": 45,
   "metadata": {
    "colab": {
     "base_uri": "https://localhost:8080/"
    },
    "id": "0Yqs76R8gZ5e",
    "outputId": "5219bf85-e32e-4897-f90a-7fc9f434e893"
   },
   "outputs": [
    {
     "name": "stdout",
     "output_type": "stream",
     "text": [
      "fatal: destination path 'd3-scatterplot' already exists and is not an empty directory.\n"
     ]
    }
   ],
   "source": [
    "!git clone https://github.com/CAHLR/d3-scatterplot.git"
   ]
  },
  {
   "cell_type": "code",
   "execution_count": 46,
   "metadata": {
    "colab": {
     "base_uri": "https://localhost:8080/",
     "height": 821
    },
    "id": "hSP030KGgcC5",
    "outputId": "decf55b0-1dc7-4d18-9ce5-2d8ca2007bef"
   },
   "outputs": [
    {
     "data": {
      "application/javascript": [
       "\n",
       "  (async ()=>{\n",
       "    fm = document.createElement('iframe')\n",
       "    fm.src = await google.colab.kernel.proxyPort(8000) + '/index.html?dataset=tsvfile.tsv'\n",
       "    fm.width = '90%'\n",
       "    fm.height = '800'\n",
       "    fm.frameBorder = 0\n",
       "    document.body.append(fm)\n",
       "  })();\n",
       "  "
      ],
      "text/plain": [
       "<IPython.core.display.Javascript object>"
      ]
     },
     "metadata": {
      "tags": []
     },
     "output_type": "display_data"
    }
   ],
   "source": [
    "def show_port(port, data_file, width=600, height=800):\n",
    "  display(Javascript(\"\"\"\n",
    "  (async ()=>{\n",
    "    fm = document.createElement('iframe')\n",
    "    fm.src = await google.colab.kernel.proxyPort(%d) + '/index.html?dataset=%s'\n",
    "    fm.width = '90%%'\n",
    "    fm.height = '%d'\n",
    "    fm.frameBorder = 0\n",
    "    document.body.append(fm)\n",
    "  })();\n",
    "  \"\"\" % (port, data_file, height)))\n",
    "\n",
    "port = 8000\n",
    "data_file = 'tsvfile.tsv'\n",
    "height = 1600\n",
    "\n",
    "get_ipython().system_raw('cd d3-scatterplot && python3 -m http.server %d &' % port) \n",
    "show_port(port, data_file, height)"
   ]
  },
  {
   "cell_type": "code",
   "execution_count": null,
   "metadata": {
    "id": "fR4HC_x7giAZ"
   },
   "outputs": [],
   "source": []
  }
 ],
 "metadata": {
  "colab": {
   "collapsed_sections": [],
   "name": "Rakha_Mohamed_Lab6",
   "provenance": [],
   "toc_visible": true
  },
  "kernelspec": {
   "display_name": "Python 3",
   "language": "python",
   "name": "python3"
  },
  "language_info": {
   "codemirror_mode": {
    "name": "ipython",
    "version": 3
   },
   "file_extension": ".py",
   "mimetype": "text/x-python",
   "name": "python",
   "nbconvert_exporter": "python",
   "pygments_lexer": "ipython3",
   "version": "3.7.4"
  }
 },
 "nbformat": 4,
 "nbformat_minor": 1
}
