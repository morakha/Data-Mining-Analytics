{
 "cells": [
  {
   "cell_type": "markdown",
   "metadata": {
    "id": "9kTKaVK47knP"
   },
   "source": [
    "# Lab 7 Neural Language Model\n",
    "A language model predicts the next word in the sequence based on the specific words that have come before it in the sequence.\n",
    "\n",
    "It is also possible to develop language models at the character level using neural networks. The benefit of character-based language models is their small vocabulary and flexibility in handling any words, punctuation, and other document structure. This comes at the cost of requiring larger models that are slower to train.\n",
    "\n",
    "Nevertheless, in the field of neural language models, character-based models offer a lot of promise for a general, flexible and powerful approach to language modeling."
   ]
  },
  {
   "cell_type": "markdown",
   "metadata": {
    "id": "QK2Ew8_C7knQ"
   },
   "source": [
    "As a prerequisite for the lab, make sure to pip install:\n",
    "- keras\n",
    "- tensorflow\n",
    "- h5py"
   ]
  },
  {
   "cell_type": "markdown",
   "metadata": {
    "id": "xIs5eFI97knR"
   },
   "source": [
    "# Source Text Creation"
   ]
  },
  {
   "cell_type": "markdown",
   "metadata": {
    "id": "zQku8-L97knT"
   },
   "source": [
    "To start out with, we'll be using a simple nursery rhyme. It's quite short so we can actually train something on your CPU and see relatively interesting results. Please copy and paste the following text in a text file and save it as \"rhyme.txt\". Place this in the same directory as this jupyter notebook:"
   ]
  },
  {
   "cell_type": "code",
   "execution_count": 1,
   "metadata": {
    "id": "6wl1ZLGG7wii"
   },
   "outputs": [],
   "source": [
    "#!pip install tensorflow\n",
    "#!pip install keras\n",
    "#!pip install h5py"
   ]
  },
  {
   "cell_type": "code",
   "execution_count": 2,
   "metadata": {
    "id": "iqQdG7M68HVt"
   },
   "outputs": [],
   "source": [
    "s='Sing a song of sixpence,\\\n",
    "A pocket full of rye.\\\n",
    "Four and twenty blackbirds,\\\n",
    "Baked in a pie.\\\n",
    "When the pie was opened\\\n",
    "The birds began to sing;\\\n",
    "Wasn’t that a dainty dish,\\\n",
    "To set before the king.\\\n",
    "The king was in his counting house,\\\n",
    "Counting out his money;\\\n",
    "The queen was in the parlour,\\\n",
    "Eating bread and honey.\\\n",
    "The maid was in the garden,\\\n",
    "Hanging out the clothes,\\\n",
    "When down came a blackbird\\\n",
    "And pecked off her nose.'\n",
    "\n",
    "with open('rhymes.txt','w') as f:\n",
    "  f.write(s)"
   ]
  },
  {
   "cell_type": "markdown",
   "metadata": {
    "id": "Gq7wq3fF7knV"
   },
   "source": [
    "    Sing a song of sixpence,\n",
    "    A pocket full of rye.\n",
    "    Four and twenty blackbirds,\n",
    "    Baked in a pie.\n",
    "\n",
    "    When the pie was opened\n",
    "    The birds began to sing;\n",
    "    Wasn’t that a dainty dish,\n",
    "    To set before the king.\n",
    "\n",
    "    The king was in his counting house,\n",
    "    Counting out his money;\n",
    "    The queen was in the parlour,\n",
    "    Eating bread and honey.\n",
    "\n",
    "    The maid was in the garden,\n",
    "    Hanging out the clothes,\n",
    "    When down came a blackbird\n",
    "    And pecked off her nose."
   ]
  },
  {
   "cell_type": "markdown",
   "metadata": {
    "id": "tdOJmdjU7knW"
   },
   "source": [
    "# Sequence Generation\n",
    "\n",
    "A language model must be trained on the text, and in the case of a character-based language model, the input and output sequences must be characters.\n",
    "\n",
    "The number of characters used as input will also define the number of characters that will need to be provided to the model in order to elicit the first predicted character.\n",
    "\n",
    "After the first character has been generated, it can be appended to the input sequence and used as input for the model to generate the next character.\n",
    "\n",
    "Longer sequences offer more context for the model to learn what character to output next but take longer to train and impose more burden on seeding the model when generating text.\n",
    "\n",
    "We will use an arbitrary length of 10 characters for this model.\n",
    "\n",
    "There is not a lot of text, and 10 characters is a few words.\n",
    "\n",
    "We can now transform the raw text into a form that our model can learn; specifically, input and output sequences of characters."
   ]
  },
  {
   "cell_type": "code",
   "execution_count": 3,
   "metadata": {
    "id": "JjJfvv1U7knY"
   },
   "outputs": [],
   "source": [
    "#load doc into memory\n",
    "def load_doc(filename):\n",
    "    # open the file as read only\n",
    "    file = open(filename, 'r')\n",
    "    # read all text\n",
    "    text = file.read()\n",
    "    # close the file\n",
    "    file.close()\n",
    "    return text\n",
    "# save tokens to file, one dialog per line\n",
    "def save_doc(lines, filename):\n",
    "    data = '\\n'.join(lines)\n",
    "    file = open(filename, 'w')\n",
    "    file.write(data)\n",
    "    file.close()"
   ]
  },
  {
   "cell_type": "code",
   "execution_count": 4,
   "metadata": {
    "colab": {
     "base_uri": "https://localhost:8080/"
    },
    "id": "F6GbMmMs7knb",
    "outputId": "484fe6fe-ebf5-41ec-cd5e-6d38b39c7136"
   },
   "outputs": [
    {
     "name": "stdout",
     "output_type": "stream",
     "text": [
      "Sing a song of sixpence,A pocket full of rye.Four and twenty blackbirds,Baked in a pie.When the pie was openedThe birds began to sing;Wasn’t that a dainty dish,To set before the king.The king was in his counting house,Counting out his money;The queen was in the parlour,Eating bread and honey.The maid was in the garden,Hanging out the clothes,When down came a blackbirdAnd pecked off her nose.\n",
      "Total Sequences: 384\n"
     ]
    }
   ],
   "source": [
    "#load text\n",
    "raw_text = load_doc('rhymes.txt')\n",
    "print(raw_text)\n",
    "\n",
    "# clean\n",
    "tokens = raw_text.split()\n",
    "raw_text = ' '.join(tokens)\n",
    "\n",
    "# organize into sequences of characters\n",
    "length = 10\n",
    "sequences = list()\n",
    "for i in range(length, len(raw_text)):\n",
    "    # select sequence of tokens\n",
    "    seq = raw_text[i-length:i+1]\n",
    "    # store\n",
    "    sequences.append(seq)\n",
    "print('Total Sequences: %d' % len(sequences))"
   ]
  },
  {
   "cell_type": "code",
   "execution_count": 5,
   "metadata": {
    "id": "iBepEyDn7kne"
   },
   "outputs": [],
   "source": [
    "# save sequences to file\n",
    "out_filename = 'char_sequences.txt'\n",
    "save_doc(sequences, out_filename)"
   ]
  },
  {
   "cell_type": "markdown",
   "metadata": {
    "id": "ohjVbv1l7kng"
   },
   "source": [
    "# Train a Model\n",
    "In this section, we will develop a neural language model for the prepared sequence data.\n",
    "\n",
    "The model will read encoded characters and predict the next character in the sequence. A Long Short-Term Memory recurrent neural network hidden layer will be used to learn the context from the input sequence in order to make the predictions."
   ]
  },
  {
   "cell_type": "code",
   "execution_count": 6,
   "metadata": {
    "id": "7HBgtQvY7knh"
   },
   "outputs": [],
   "source": [
    "from numpy import array\n",
    "from pickle import dump\n",
    "from keras.utils import to_categorical\n",
    "from keras.models import Sequential\n",
    "from keras.layers import Dense\n",
    "from keras.layers import LSTM\n",
    "\n",
    "# load doc into memory\n",
    "def load_doc(filename):\n",
    "    # open the file as read only\n",
    "    file = open(filename, 'r')\n",
    "    # read all text\n",
    "    text = file.read()\n",
    "    # close the file\n",
    "    file.close()\n",
    "    return text"
   ]
  },
  {
   "cell_type": "code",
   "execution_count": 7,
   "metadata": {
    "id": "r8ruXoPS7knl"
   },
   "outputs": [],
   "source": [
    "# load\n",
    "\n",
    "in_filename = 'char_sequences.txt'\n",
    "raw_text = load_doc(in_filename)\n",
    "lines = raw_text.split('\\n')"
   ]
  },
  {
   "cell_type": "markdown",
   "metadata": {
    "id": "uTnvoY-f7kno"
   },
   "source": [
    "The sequences of characters must be encoded as integers.This means that each unique character will be assigned a specific integer value and each sequence of characters will be encoded as a sequence of integers. We can create the mapping given a sorted set of unique characters in the raw input data. The mapping is a dictionary of character values to integer values.\n",
    "\n",
    "Next, we can process each sequence of characters one at a time and use the dictionary mapping to look up the integer value for each character. The result is a list of integer lists.\n",
    "\n",
    "We need to know the size of the vocabulary later. We can retrieve this as the size of the dictionary mapping."
   ]
  },
  {
   "cell_type": "code",
   "execution_count": 8,
   "metadata": {
    "colab": {
     "base_uri": "https://localhost:8080/"
    },
    "id": "kMndzt5v7kno",
    "outputId": "421576ed-c3ea-4b18-8bf5-a3b80ed237d3"
   },
   "outputs": [
    {
     "name": "stdout",
     "output_type": "stream",
     "text": [
      "Vocabulary Size: 38\n"
     ]
    }
   ],
   "source": [
    "# integer encode sequences of characters\n",
    "chars = sorted(list(set(raw_text)))\n",
    "mapping = dict((c, i) for i, c in enumerate(chars))\n",
    "sequences = list()\n",
    "for line in lines:\n",
    "    # integer encode line\n",
    "    encoded_seq = [mapping[char] for char in line]\n",
    "    # store\n",
    "    sequences.append(encoded_seq)\n",
    "\n",
    "# vocabulary size\n",
    "vocab_size = len(mapping)\n",
    "print('Vocabulary Size: %d' % vocab_size)\n",
    "\n",
    "# separate into input and output\n",
    "sequences = array(sequences)\n",
    "X, y = sequences[:,:-1], sequences[:,-1]\n",
    "sequences = [to_categorical(x, num_classes=vocab_size) for x in X]\n",
    "X = array(sequences)\n",
    "y = to_categorical(y, num_classes=vocab_size)"
   ]
  },
  {
   "cell_type": "markdown",
   "metadata": {
    "id": "0qyCICfV7knx"
   },
   "source": [
    "The model is defined with an input layer that takes sequences that have 10 time steps and 38 features for the one hot encoded input sequences. Rather than specify these numbers, we use the second and third dimensions on the X input data. This is so that if we change the length of the sequences or size of the vocabulary, we do not need to change the model definition.\n",
    "\n",
    "The model has a single LSTM hidden layer with 75 memory cells. The model has a fully connected output layer that outputs one vector with a probability distribution across all characters in the vocabulary. A softmax activation function is used on the output layer to ensure the output has the properties of a probability distribution.\n",
    "\n",
    "The model is learning a multi-class classification problem, therefore we use the categorical log loss intended for this type of problem. The efficient Adam implementation of gradient descent is used to optimize the model and accuracy is reported at the end of each batch update. The model is fit for 50 training epochs.\n",
    "\n",
    "# To Do:\n",
    "- Try different numbers of memory cells\n",
    "- Try different types and amounts of recurrent and fully connected layers\n",
    "- Try different lengths of training epochs\n",
    "- Try different sequence lengths and pre-processing of data\n",
    "- Try regularization techniques such as Dropout"
   ]
  },
  {
   "cell_type": "code",
   "execution_count": 9,
   "metadata": {
    "id": "DebVFs-nSBLl"
   },
   "outputs": [],
   "source": [
    "# Train test split\n",
    "\n",
    "import numpy as np\n",
    "from sklearn.model_selection import train_test_split\n",
    "\n",
    "X_train, X_test, y_train, y_test = train_test_split(X, y, test_size=0.20, random_state=42)"
   ]
  },
  {
   "cell_type": "code",
   "execution_count": 10,
   "metadata": {
    "id": "glqgXT0mTI9U"
   },
   "outputs": [],
   "source": [
    "from keras.layers import Dropout"
   ]
  },
  {
   "cell_type": "code",
   "execution_count": 11,
   "metadata": {
    "colab": {
     "base_uri": "https://localhost:8080/"
    },
    "id": "K1jO9lYX7kny",
    "outputId": "cd21c08b-9240-486c-d1b4-715a2c73b577",
    "scrolled": false
   },
   "outputs": [
    {
     "name": "stdout",
     "output_type": "stream",
     "text": [
      "Model: \"sequential\"\n",
      "_________________________________________________________________\n",
      "Layer (type)                 Output Shape              Param #   \n",
      "=================================================================\n",
      "lstm (LSTM)                  (None, 150)               113400    \n",
      "_________________________________________________________________\n",
      "dropout (Dropout)            (None, 150)               0         \n",
      "_________________________________________________________________\n",
      "dense (Dense)                (None, 38)                5738      \n",
      "=================================================================\n",
      "Total params: 119,138\n",
      "Trainable params: 119,138\n",
      "Non-trainable params: 0\n",
      "_________________________________________________________________\n",
      "None\n",
      "Epoch 1/80\n",
      "9/9 [==============================] - 1s 67ms/step - loss: 3.5993 - accuracy: 0.0970 - val_loss: 3.5371 - val_accuracy: 0.1810\n",
      "Epoch 2/80\n",
      "9/9 [==============================] - 0s 17ms/step - loss: 3.4346 - accuracy: 0.1791 - val_loss: 3.2133 - val_accuracy: 0.1552\n",
      "Epoch 3/80\n",
      "9/9 [==============================] - 0s 16ms/step - loss: 3.1878 - accuracy: 0.1604 - val_loss: 3.1317 - val_accuracy: 0.1552\n",
      "Epoch 4/80\n",
      "9/9 [==============================] - 0s 18ms/step - loss: 3.1043 - accuracy: 0.1493 - val_loss: 3.1228 - val_accuracy: 0.1552\n",
      "Epoch 5/80\n",
      "9/9 [==============================] - 0s 19ms/step - loss: 3.0658 - accuracy: 0.1716 - val_loss: 3.1049 - val_accuracy: 0.1552\n",
      "Epoch 6/80\n",
      "9/9 [==============================] - 0s 17ms/step - loss: 3.0519 - accuracy: 0.1604 - val_loss: 3.0925 - val_accuracy: 0.1552\n",
      "Epoch 7/80\n",
      "9/9 [==============================] - 0s 16ms/step - loss: 3.0139 - accuracy: 0.1567 - val_loss: 3.1011 - val_accuracy: 0.1552\n",
      "Epoch 8/80\n",
      "9/9 [==============================] - 0s 17ms/step - loss: 2.9909 - accuracy: 0.1642 - val_loss: 3.0720 - val_accuracy: 0.1552\n",
      "Epoch 9/80\n",
      "9/9 [==============================] - 0s 18ms/step - loss: 3.0229 - accuracy: 0.1604 - val_loss: 3.0680 - val_accuracy: 0.1810\n",
      "Epoch 10/80\n",
      "9/9 [==============================] - 0s 17ms/step - loss: 3.0042 - accuracy: 0.1866 - val_loss: 3.0689 - val_accuracy: 0.1724\n",
      "Epoch 11/80\n",
      "9/9 [==============================] - 0s 16ms/step - loss: 2.9257 - accuracy: 0.1828 - val_loss: 3.0823 - val_accuracy: 0.1638\n",
      "Epoch 12/80\n",
      "9/9 [==============================] - 0s 19ms/step - loss: 2.9183 - accuracy: 0.1828 - val_loss: 3.0697 - val_accuracy: 0.1638\n",
      "Epoch 13/80\n",
      "9/9 [==============================] - 0s 17ms/step - loss: 2.8746 - accuracy: 0.1978 - val_loss: 3.0741 - val_accuracy: 0.1638\n",
      "Epoch 14/80\n",
      "9/9 [==============================] - 0s 17ms/step - loss: 2.8421 - accuracy: 0.1679 - val_loss: 3.0548 - val_accuracy: 0.1810\n",
      "Epoch 15/80\n",
      "9/9 [==============================] - 0s 16ms/step - loss: 2.8018 - accuracy: 0.2164 - val_loss: 3.0574 - val_accuracy: 0.1552\n",
      "Epoch 16/80\n",
      "9/9 [==============================] - 0s 16ms/step - loss: 2.7565 - accuracy: 0.2090 - val_loss: 3.0702 - val_accuracy: 0.1724\n",
      "Epoch 17/80\n",
      "9/9 [==============================] - 0s 17ms/step - loss: 2.7322 - accuracy: 0.2201 - val_loss: 3.0587 - val_accuracy: 0.1552\n",
      "Epoch 18/80\n",
      "9/9 [==============================] - 0s 18ms/step - loss: 2.7002 - accuracy: 0.2127 - val_loss: 3.0733 - val_accuracy: 0.1724\n",
      "Epoch 19/80\n",
      "9/9 [==============================] - 0s 16ms/step - loss: 2.6953 - accuracy: 0.2239 - val_loss: 3.0716 - val_accuracy: 0.1466\n",
      "Epoch 20/80\n",
      "9/9 [==============================] - 0s 17ms/step - loss: 2.6171 - accuracy: 0.2239 - val_loss: 3.0930 - val_accuracy: 0.1638\n",
      "Epoch 21/80\n",
      "9/9 [==============================] - 0s 16ms/step - loss: 2.6029 - accuracy: 0.2090 - val_loss: 3.1304 - val_accuracy: 0.1810\n",
      "Epoch 22/80\n",
      "9/9 [==============================] - 0s 16ms/step - loss: 2.5078 - accuracy: 0.2612 - val_loss: 3.1212 - val_accuracy: 0.1638\n",
      "Epoch 23/80\n",
      "9/9 [==============================] - 0s 17ms/step - loss: 2.4942 - accuracy: 0.2388 - val_loss: 3.0862 - val_accuracy: 0.1810\n",
      "Epoch 24/80\n",
      "9/9 [==============================] - 0s 18ms/step - loss: 2.4266 - accuracy: 0.2687 - val_loss: 3.0638 - val_accuracy: 0.1983\n",
      "Epoch 25/80\n",
      "9/9 [==============================] - 0s 16ms/step - loss: 2.3554 - accuracy: 0.2799 - val_loss: 3.1039 - val_accuracy: 0.1638\n",
      "Epoch 26/80\n",
      "9/9 [==============================] - 0s 18ms/step - loss: 2.3489 - accuracy: 0.2761 - val_loss: 3.0963 - val_accuracy: 0.2069\n",
      "Epoch 27/80\n",
      "9/9 [==============================] - 0s 18ms/step - loss: 2.2497 - accuracy: 0.3321 - val_loss: 3.1525 - val_accuracy: 0.1983\n",
      "Epoch 28/80\n",
      "9/9 [==============================] - 0s 16ms/step - loss: 2.2154 - accuracy: 0.2948 - val_loss: 3.1321 - val_accuracy: 0.2069\n",
      "Epoch 29/80\n",
      "9/9 [==============================] - 0s 17ms/step - loss: 2.1812 - accuracy: 0.3134 - val_loss: 3.1887 - val_accuracy: 0.1552\n",
      "Epoch 30/80\n",
      "9/9 [==============================] - 0s 19ms/step - loss: 2.1303 - accuracy: 0.3246 - val_loss: 3.2057 - val_accuracy: 0.1897\n",
      "Epoch 31/80\n",
      "9/9 [==============================] - 0s 17ms/step - loss: 2.0814 - accuracy: 0.3507 - val_loss: 3.2006 - val_accuracy: 0.1724\n",
      "Epoch 32/80\n",
      "9/9 [==============================] - 0s 17ms/step - loss: 2.0479 - accuracy: 0.3507 - val_loss: 3.2650 - val_accuracy: 0.2241\n",
      "Epoch 33/80\n",
      "9/9 [==============================] - 0s 18ms/step - loss: 1.9754 - accuracy: 0.3657 - val_loss: 3.2187 - val_accuracy: 0.2155\n",
      "Epoch 34/80\n",
      "9/9 [==============================] - 0s 17ms/step - loss: 1.9133 - accuracy: 0.4179 - val_loss: 3.2582 - val_accuracy: 0.2069\n",
      "Epoch 35/80\n",
      "9/9 [==============================] - 0s 18ms/step - loss: 1.8832 - accuracy: 0.4030 - val_loss: 3.3300 - val_accuracy: 0.1466\n",
      "Epoch 36/80\n",
      "9/9 [==============================] - 0s 17ms/step - loss: 1.8170 - accuracy: 0.4254 - val_loss: 3.2804 - val_accuracy: 0.1983\n",
      "Epoch 37/80\n",
      "9/9 [==============================] - 0s 16ms/step - loss: 1.7246 - accuracy: 0.4403 - val_loss: 3.3547 - val_accuracy: 0.1897\n",
      "Epoch 38/80\n",
      "9/9 [==============================] - 0s 17ms/step - loss: 1.6797 - accuracy: 0.4739 - val_loss: 3.3642 - val_accuracy: 0.1810\n",
      "Epoch 39/80\n",
      "9/9 [==============================] - 0s 17ms/step - loss: 1.5984 - accuracy: 0.5261 - val_loss: 3.4078 - val_accuracy: 0.1552\n",
      "Epoch 40/80\n",
      "9/9 [==============================] - 0s 18ms/step - loss: 1.5045 - accuracy: 0.5448 - val_loss: 3.4887 - val_accuracy: 0.1552\n",
      "Epoch 41/80\n",
      "9/9 [==============================] - 0s 18ms/step - loss: 1.5000 - accuracy: 0.5336 - val_loss: 3.4909 - val_accuracy: 0.1724\n",
      "Epoch 42/80\n",
      "9/9 [==============================] - 0s 17ms/step - loss: 1.4386 - accuracy: 0.5821 - val_loss: 3.5279 - val_accuracy: 0.1724\n",
      "Epoch 43/80\n",
      "9/9 [==============================] - 0s 18ms/step - loss: 1.4067 - accuracy: 0.5634 - val_loss: 3.5426 - val_accuracy: 0.1552\n",
      "Epoch 44/80\n",
      "9/9 [==============================] - 0s 17ms/step - loss: 1.3599 - accuracy: 0.6082 - val_loss: 3.5568 - val_accuracy: 0.1207\n",
      "Epoch 45/80\n",
      "9/9 [==============================] - 0s 18ms/step - loss: 1.2618 - accuracy: 0.6530 - val_loss: 3.6444 - val_accuracy: 0.1638\n",
      "Epoch 46/80\n",
      "9/9 [==============================] - 0s 18ms/step - loss: 1.2461 - accuracy: 0.6530 - val_loss: 3.6555 - val_accuracy: 0.1552\n",
      "Epoch 47/80\n",
      "9/9 [==============================] - 0s 18ms/step - loss: 1.2730 - accuracy: 0.6231 - val_loss: 3.6881 - val_accuracy: 0.1121\n",
      "Epoch 48/80\n",
      "9/9 [==============================] - 0s 17ms/step - loss: 1.1835 - accuracy: 0.6642 - val_loss: 3.6502 - val_accuracy: 0.1724\n",
      "Epoch 49/80\n",
      "9/9 [==============================] - 0s 16ms/step - loss: 1.1491 - accuracy: 0.6754 - val_loss: 3.7635 - val_accuracy: 0.1724\n",
      "Epoch 50/80\n",
      "9/9 [==============================] - 0s 17ms/step - loss: 1.0283 - accuracy: 0.7388 - val_loss: 3.7676 - val_accuracy: 0.1466\n",
      "Epoch 51/80\n",
      "9/9 [==============================] - 0s 17ms/step - loss: 0.9662 - accuracy: 0.7687 - val_loss: 3.8178 - val_accuracy: 0.1552\n",
      "Epoch 52/80\n",
      "9/9 [==============================] - 0s 19ms/step - loss: 0.9799 - accuracy: 0.7612 - val_loss: 3.9146 - val_accuracy: 0.1121\n",
      "Epoch 53/80\n",
      "9/9 [==============================] - 0s 18ms/step - loss: 0.9527 - accuracy: 0.7575 - val_loss: 3.9295 - val_accuracy: 0.1121\n",
      "Epoch 54/80\n",
      "9/9 [==============================] - 0s 18ms/step - loss: 0.8519 - accuracy: 0.7799 - val_loss: 3.8971 - val_accuracy: 0.1724\n",
      "Epoch 55/80\n",
      "9/9 [==============================] - 0s 17ms/step - loss: 0.7755 - accuracy: 0.8358 - val_loss: 4.0745 - val_accuracy: 0.1121\n",
      "Epoch 56/80\n",
      "9/9 [==============================] - 0s 17ms/step - loss: 0.7396 - accuracy: 0.8321 - val_loss: 4.0613 - val_accuracy: 0.1207\n",
      "Epoch 57/80\n",
      "9/9 [==============================] - 0s 17ms/step - loss: 0.6815 - accuracy: 0.8582 - val_loss: 4.1007 - val_accuracy: 0.1638\n",
      "Epoch 58/80\n",
      "9/9 [==============================] - 0s 19ms/step - loss: 0.6582 - accuracy: 0.8694 - val_loss: 4.0900 - val_accuracy: 0.1466\n",
      "Epoch 59/80\n",
      "9/9 [==============================] - 0s 17ms/step - loss: 0.5983 - accuracy: 0.8731 - val_loss: 4.1829 - val_accuracy: 0.1379\n",
      "Epoch 60/80\n",
      "9/9 [==============================] - 0s 17ms/step - loss: 0.5726 - accuracy: 0.8881 - val_loss: 4.2125 - val_accuracy: 0.1466\n",
      "Epoch 61/80\n",
      "9/9 [==============================] - 0s 17ms/step - loss: 0.5449 - accuracy: 0.9179 - val_loss: 4.2589 - val_accuracy: 0.1466\n",
      "Epoch 62/80\n",
      "9/9 [==============================] - 0s 18ms/step - loss: 0.5078 - accuracy: 0.9216 - val_loss: 4.2535 - val_accuracy: 0.1638\n",
      "Epoch 63/80\n",
      "9/9 [==============================] - 0s 19ms/step - loss: 0.4916 - accuracy: 0.9142 - val_loss: 4.3415 - val_accuracy: 0.1552\n",
      "Epoch 64/80\n",
      "9/9 [==============================] - 0s 18ms/step - loss: 0.4609 - accuracy: 0.9478 - val_loss: 4.3299 - val_accuracy: 0.1207\n",
      "Epoch 65/80\n",
      "9/9 [==============================] - 0s 17ms/step - loss: 0.4255 - accuracy: 0.9515 - val_loss: 4.4425 - val_accuracy: 0.1379\n",
      "Epoch 66/80\n",
      "9/9 [==============================] - 0s 18ms/step - loss: 0.4286 - accuracy: 0.9403 - val_loss: 4.3442 - val_accuracy: 0.1379\n",
      "Epoch 67/80\n",
      "9/9 [==============================] - 0s 17ms/step - loss: 0.3799 - accuracy: 0.9478 - val_loss: 4.4679 - val_accuracy: 0.1724\n",
      "Epoch 68/80\n",
      "9/9 [==============================] - 0s 18ms/step - loss: 0.3584 - accuracy: 0.9478 - val_loss: 4.4540 - val_accuracy: 0.1638\n",
      "Epoch 69/80\n",
      "9/9 [==============================] - 0s 16ms/step - loss: 0.3123 - accuracy: 0.9776 - val_loss: 4.5699 - val_accuracy: 0.1466\n",
      "Epoch 70/80\n",
      "9/9 [==============================] - 0s 17ms/step - loss: 0.3159 - accuracy: 0.9664 - val_loss: 4.4834 - val_accuracy: 0.1810\n",
      "Epoch 71/80\n",
      "9/9 [==============================] - 0s 16ms/step - loss: 0.3107 - accuracy: 0.9701 - val_loss: 4.6410 - val_accuracy: 0.1466\n",
      "Epoch 72/80\n",
      "9/9 [==============================] - 0s 18ms/step - loss: 0.2948 - accuracy: 0.9664 - val_loss: 4.6671 - val_accuracy: 0.1034\n",
      "Epoch 73/80\n",
      "9/9 [==============================] - 0s 18ms/step - loss: 0.2704 - accuracy: 0.9813 - val_loss: 4.7249 - val_accuracy: 0.1379\n",
      "Epoch 74/80\n",
      "9/9 [==============================] - 0s 17ms/step - loss: 0.2735 - accuracy: 0.9627 - val_loss: 4.7775 - val_accuracy: 0.1293\n",
      "Epoch 75/80\n",
      "9/9 [==============================] - 0s 17ms/step - loss: 0.2493 - accuracy: 0.9701 - val_loss: 4.6809 - val_accuracy: 0.1983\n",
      "Epoch 76/80\n",
      "9/9 [==============================] - 0s 17ms/step - loss: 0.2368 - accuracy: 0.9813 - val_loss: 4.8077 - val_accuracy: 0.1121\n",
      "Epoch 77/80\n",
      "9/9 [==============================] - 0s 17ms/step - loss: 0.2359 - accuracy: 0.9813 - val_loss: 4.7501 - val_accuracy: 0.1724\n",
      "Epoch 78/80\n",
      "9/9 [==============================] - 0s 17ms/step - loss: 0.1956 - accuracy: 0.9925 - val_loss: 4.8555 - val_accuracy: 0.1466\n",
      "Epoch 79/80\n",
      "9/9 [==============================] - 0s 17ms/step - loss: 0.1953 - accuracy: 0.9851 - val_loss: 4.8542 - val_accuracy: 0.1810\n",
      "Epoch 80/80\n",
      "9/9 [==============================] - 0s 17ms/step - loss: 0.1833 - accuracy: 0.9813 - val_loss: 4.9009 - val_accuracy: 0.1552\n"
     ]
    }
   ],
   "source": [
    "# define model\n",
    "model = Sequential()\n",
    "model.add(LSTM(150, input_shape=(X.shape[1], X.shape[2])))\n",
    "model.add(Dropout(0.2))\n",
    "model.add(Dense(vocab_size, activation='softmax'))\n",
    "print(model.summary())\n",
    "# compile model\n",
    "model.compile(loss='categorical_crossentropy', optimizer='adam', metrics=['accuracy'])\n",
    "# fit model\n",
    "history=model.fit(X, y, validation_split = 0.3,epochs=80)"
   ]
  },
  {
   "cell_type": "code",
   "execution_count": 12,
   "metadata": {
    "id": "raAPR9Qp7kn1"
   },
   "outputs": [],
   "source": [
    "# save the model to file\n",
    "model.save('model.h5')\n",
    "# save the mapping\n",
    "dump(mapping, open('mapping.pkl', 'wb'))"
   ]
  },
  {
   "cell_type": "code",
   "execution_count": 13,
   "metadata": {
    "colab": {
     "base_uri": "https://localhost:8080/"
    },
    "id": "vQbzdYk4C6oe",
    "outputId": "9053ab7a-07ef-406c-c825-3c706c60a623"
   },
   "outputs": [
    {
     "name": "stdout",
     "output_type": "stream",
     "text": [
      "3/3 [==============================] - 0s 4ms/step - loss: 1.4447 - accuracy: 0.8182\n",
      "[1.444728970527649, 0.8181818127632141]\n"
     ]
    }
   ],
   "source": [
    "print(model.evaluate(X_test, y_test))"
   ]
  },
  {
   "cell_type": "markdown",
   "metadata": {
    "id": "vv4Q4Rkf7kn4"
   },
   "source": [
    "# Generating Text"
   ]
  },
  {
   "cell_type": "markdown",
   "metadata": {
    "id": "EigunCf57kn6"
   },
   "source": [
    "We must provide sequences of 10 characters as input to the model in order to start the generation process. We will pick these manually. A given input sequence will need to be prepared in the same way as preparing the training data for the model. "
   ]
  },
  {
   "cell_type": "code",
   "execution_count": 14,
   "metadata": {
    "id": "6UCWctow7kn-"
   },
   "outputs": [],
   "source": [
    "from pickle import load\n",
    "from keras.models import load_model\n",
    "from keras.utils import to_categorical\n",
    "from keras.preprocessing.sequence import pad_sequences\n",
    "\n",
    "# generate a sequence of characters with a language model\n",
    "def generate_seq(model, mapping, seq_length, seed_text, n_chars):\n",
    "    in_text = seed_text\n",
    "    # generate a fixed number of characters\n",
    "    for _ in range(n_chars):\n",
    "        # encode the characters as integers\n",
    "        encoded = [mapping[char] for char in in_text]\n",
    "        # truncate sequences to a fixed length\n",
    "        encoded = pad_sequences([encoded], maxlen=seq_length, truncating='pre')\n",
    "        # one hot encode\n",
    "        encoded = to_categorical(encoded, num_classes=len(mapping))\n",
    "        # predict character\n",
    "        yhat = model.predict_classes(encoded, verbose=0)\n",
    "        # reverse map integer to character\n",
    "        out_char = ''\n",
    "        for char, index in mapping.items():\n",
    "            if index == yhat:\n",
    "                out_char = char\n",
    "                break\n",
    "        # append to input\n",
    "        in_text += char\n",
    "    return in_text\n",
    "\n",
    "# load the model\n",
    "model = load_model('model.h5')\n",
    "# load the mapping\n",
    "mapping = load(open('mapping.pkl', 'rb'))"
   ]
  },
  {
   "cell_type": "markdown",
   "metadata": {
    "id": "PXn18EY57koA"
   },
   "source": [
    "Running the example generates three sequences of text.\n",
    "\n",
    "The first is a test to see how the model does at starting from the beginning of the rhyme. The second is a test to see how well it does at beginning in the middle of a line. The final example is a test to see how well it does with a sequence of characters never seen before."
   ]
  },
  {
   "cell_type": "code",
   "execution_count": 15,
   "metadata": {
    "colab": {
     "base_uri": "https://localhost:8080/"
    },
    "id": "5UhgrJYh7koB",
    "outputId": "776e9c8c-06b4-4705-fe80-7b6b587e6a07"
   },
   "outputs": [
    {
     "name": "stdout",
     "output_type": "stream",
     "text": [
      "WARNING:tensorflow:From <ipython-input-14-46a51600fe21>:18: Sequential.predict_classes (from tensorflow.python.keras.engine.sequential) is deprecated and will be removed after 2021-01-01.\n",
      "Instructions for updating:\n",
      "Please use instead:* `np.argmax(model.predict(x), axis=-1)`,   if your model does multi-class classification   (e.g. if it uses a `softmax` last-layer activation).* `(model.predict(x) > 0.5).astype(\"int32\")`,   if your model does binary classification   (e.g. if it uses a `sigmoid` last-layer activation).\n",
      "Sing a song of sixpence,A pock\n",
      "king was in his counting house\n",
      "hello worl.FFFurtBaraBain dd e\n"
     ]
    }
   ],
   "source": [
    "# test start of rhyme\n",
    "print(generate_seq(model, mapping, 10, 'Sing a son', 20))\n",
    "# test mid-line\n",
    "print(generate_seq(model, mapping, 10, 'king was i', 20))\n",
    "# test not in original\n",
    "print(generate_seq(model, mapping, 10, 'hello worl', 20))"
   ]
  },
  {
   "cell_type": "markdown",
   "metadata": {
    "id": "UXhN-xhG7koE"
   },
   "source": [
    "If the results aren't satisfactory, try out the suggestions above or these below:\n",
    "- Padding. Update the example to provides sequences line by line only and use padding to fill out each sequence to the maximum line length.\n",
    "- Sequence Length. Experiment with different sequence lengths and see how they impact the behavior of the model.\n",
    "- Tune Model. Experiment with different model configurations, such as the number of memory cells and epochs, and try to develop a better model for fewer resources.\n"
   ]
  },
  {
   "cell_type": "markdown",
   "metadata": {
    "id": "7kyXdm-f7koF"
   },
   "source": [
    "# Deliverables to receive credit\n",
    "\n",
    "1. (4 points) Optimize the cells above to tune the model so that it generates text that closely resembles the orginal line from the rhyme, or at least generates sensible words. It's okay if the third example using unseen text still looks somewhat strange  though. Again, this is a toy problem, as language models require a lot of computation. This toy problem is great for rapid experimentation to explore different aspects of deep learning language models.\n",
    "2. (3 points) Write a function to split the text corpus file into training and validation and pipe the validation data into the model.fit() function to be able to track validation error per epoch. Lookup Keras documentation to see how this is handled.\n",
    "3. (3 points) Write a summary (methods and results) in the cells below of the different things you applied. You must include your intuitions behind what did work and what did not work well.\n",
    "4. (Extra Credit 2.5 points) Do something even more interesting. Try a different source text. Train a word-level model. We'll leave it up to your creativity to explore and write a summary of your methods and results.\n"
   ]
  },
  {
   "cell_type": "markdown",
   "metadata": {
    "id": "HjB0t8pDU7O1"
   },
   "source": [
    "## Summary\n",
    "\n",
    "Used range of epoch values (50-100) and settled at 80 as 100 was too high and led to overfit and smaller values did not perform as well. I added some dropout units to avoid the overfitting. The more hidden layers added, the worse the model performed, so I stayed away from that (while trying to find a value that made the text more readable), so settled at around 150-200 but no more. "
   ]
  },
  {
   "cell_type": "markdown",
   "metadata": {
    "id": "Iu3ugqbWZT3q"
   },
   "source": []
  },
  {
   "cell_type": "code",
   "execution_count": 16,
   "metadata": {
    "id": "bh9kQZnr7koK"
   },
   "outputs": [],
   "source": [
    "# different text: Robert Frost: The Road Not Taken\n",
    "t = \"Two roads diverged in a yellow wood,\\\n",
    "And sorry I could not travel both\\\n",
    "And be one traveler, long I stood\\\n",
    "And looked down one as far as I could\\\n",
    "To where it bent in the undergrowth;\\\n",
    "Then took the other, as just as fair,\\\n",
    "And having perhaps the better claim,\\\n",
    "Because it was grassy and wanted wear;\\\n",
    "Though as for that the passing there\\\n",
    "Had worn them really about the same,\\\n",
    "And both that morning equally lay\\\n",
    "In leaves no step had trodden black.\\\n",
    "Oh, I kept the first for another day!\\\n",
    "Yet knowing how way leads on to way,\\\n",
    "I doubted if I should ever come back.\\\n",
    "I shall be telling this with a sigh\\\n",
    "Somewhere ages and ages hence:\\\n",
    "Two roads diverged in a wood, and I-\\\n",
    "I took the one less traveled by,\\\n",
    "And that has made all the difference.\""
   ]
  },
  {
   "cell_type": "code",
   "execution_count": 17,
   "metadata": {
    "id": "72kAkk42XVq1"
   },
   "outputs": [],
   "source": [
    "with open('poem.txt','w') as b:\n",
    "  b.write(t)"
   ]
  },
  {
   "cell_type": "code",
   "execution_count": 18,
   "metadata": {
    "colab": {
     "base_uri": "https://localhost:8080/"
    },
    "id": "hyiB2oGgXYCd",
    "outputId": "381bfd06-1786-430a-dee4-ac0ea51123e9"
   },
   "outputs": [
    {
     "name": "stdout",
     "output_type": "stream",
     "text": [
      "Two roads diverged in a yellow wood,And sorry I could not travel bothAnd be one traveler, long I stoodAnd looked down one as far as I couldTo where it bent in the undergrowth;Then took the other, as just as fair,And having perhaps the better claim,Because it was grassy and wanted wear;Though as for that the passing thereHad worn them really about the same,And both that morning equally layIn leaves no step had trodden black.Oh, I kept the first for another day!Yet knowing how way leads on to way,I doubted if I should ever come back.I shall be telling this with a sighSomewhere ages and ages hence:Two roads diverged in a wood, and I-I took the one less traveled by,And that has made all the difference.\n",
      "Total Sequences: 697\n"
     ]
    }
   ],
   "source": [
    "#load text\n",
    "raw_text1 = load_doc('poem.txt')\n",
    "print(raw_text1)\n",
    "\n",
    "# clean\n",
    "tokens1 = raw_text1.split()\n",
    "raw_text1 = ' '.join(tokens1)\n",
    "\n",
    "# organize into sequences of characters\n",
    "length = 10\n",
    "sequences = list()\n",
    "for i in range(length, len(raw_text1)):\n",
    "    # select sequence of tokens\n",
    "    seq = raw_text1[i-length:i+1]\n",
    "    # store\n",
    "    sequences.append(seq)\n",
    "print('Total Sequences: %d' % len(sequences))"
   ]
  },
  {
   "cell_type": "code",
   "execution_count": 19,
   "metadata": {
    "id": "j-UoxYLyXbUd"
   },
   "outputs": [],
   "source": [
    "# save sequences to file\n",
    "out_filename1 = 'char_sequences1.txt'\n",
    "save_doc(sequences, out_filename1)"
   ]
  },
  {
   "cell_type": "code",
   "execution_count": 20,
   "metadata": {
    "id": "A3S3nbobXfMb"
   },
   "outputs": [],
   "source": [
    "in_filename = 'char_sequences1.txt'\n",
    "raw_text1 = load_doc(in_filename)\n",
    "lines = raw_text1.split('\\n')"
   ]
  },
  {
   "cell_type": "code",
   "execution_count": 21,
   "metadata": {
    "colab": {
     "base_uri": "https://localhost:8080/"
    },
    "id": "keAsfKGGXhqw",
    "outputId": "dac78633-6b70-4341-b742-ba2fe35efd6d"
   },
   "outputs": [
    {
     "name": "stdout",
     "output_type": "stream",
     "text": [
      "Vocabulary Size: 40\n"
     ]
    }
   ],
   "source": [
    "# integer encode sequences of characters\n",
    "chars = sorted(list(set(raw_text1)))\n",
    "mapping = dict((c, i) for i, c in enumerate(chars))\n",
    "sequences = list()\n",
    "for line in lines:\n",
    "    # integer encode line\n",
    "    encoded_seq = [mapping[char] for char in line]\n",
    "    # store\n",
    "    sequences.append(encoded_seq)\n",
    "\n",
    "# vocabulary size\n",
    "vocab_size = len(mapping)\n",
    "print('Vocabulary Size: %d' % vocab_size)\n",
    "\n",
    "# separate into input and output\n",
    "sequences = array(sequences)\n",
    "X, y = sequences[:,:-1], sequences[:,-1]\n",
    "sequences = [to_categorical(x, num_classes=vocab_size) for x in X]\n",
    "X = array(sequences)\n",
    "y = to_categorical(y, num_classes=vocab_size)"
   ]
  },
  {
   "cell_type": "code",
   "execution_count": 22,
   "metadata": {
    "colab": {
     "base_uri": "https://localhost:8080/"
    },
    "id": "goIB-JqBXldr",
    "outputId": "e2287f92-d643-481a-9481-4619dee9aece"
   },
   "outputs": [
    {
     "name": "stdout",
     "output_type": "stream",
     "text": [
      "Model: \"sequential_1\"\n",
      "_________________________________________________________________\n",
      "Layer (type)                 Output Shape              Param #   \n",
      "=================================================================\n",
      "lstm_1 (LSTM)                (None, 200)               192800    \n",
      "_________________________________________________________________\n",
      "dropout_1 (Dropout)          (None, 200)               0         \n",
      "_________________________________________________________________\n",
      "dense_1 (Dense)              (None, 40)                8040      \n",
      "=================================================================\n",
      "Total params: 200,840\n",
      "Trainable params: 200,840\n",
      "Non-trainable params: 0\n",
      "_________________________________________________________________\n",
      "None\n",
      "Epoch 1/60\n",
      "16/16 [==============================] - 1s 55ms/step - loss: 3.5852 - accuracy: 0.1376 - val_loss: 3.2261 - val_accuracy: 0.1762\n",
      "Epoch 2/60\n",
      "16/16 [==============================] - 0s 28ms/step - loss: 3.1205 - accuracy: 0.1725 - val_loss: 3.0761 - val_accuracy: 0.1762\n",
      "Epoch 3/60\n",
      "16/16 [==============================] - 0s 29ms/step - loss: 3.0119 - accuracy: 0.1725 - val_loss: 3.0530 - val_accuracy: 0.1762\n",
      "Epoch 4/60\n",
      "16/16 [==============================] - 0s 26ms/step - loss: 3.0029 - accuracy: 0.1745 - val_loss: 3.0621 - val_accuracy: 0.1762\n",
      "Epoch 5/60\n",
      "16/16 [==============================] - 0s 27ms/step - loss: 2.9781 - accuracy: 0.1745 - val_loss: 3.0301 - val_accuracy: 0.1762\n",
      "Epoch 6/60\n",
      "16/16 [==============================] - 0s 27ms/step - loss: 2.9479 - accuracy: 0.1725 - val_loss: 3.0394 - val_accuracy: 0.1762\n",
      "Epoch 7/60\n",
      "16/16 [==============================] - 0s 28ms/step - loss: 2.9231 - accuracy: 0.1745 - val_loss: 3.0433 - val_accuracy: 0.1762\n",
      "Epoch 8/60\n",
      "16/16 [==============================] - 0s 29ms/step - loss: 2.9078 - accuracy: 0.1766 - val_loss: 3.0743 - val_accuracy: 0.1714\n",
      "Epoch 9/60\n",
      "16/16 [==============================] - 0s 28ms/step - loss: 2.9380 - accuracy: 0.1786 - val_loss: 3.0401 - val_accuracy: 0.1762\n",
      "Epoch 10/60\n",
      "16/16 [==============================] - 0s 29ms/step - loss: 2.8634 - accuracy: 0.1786 - val_loss: 3.0132 - val_accuracy: 0.1762\n",
      "Epoch 11/60\n",
      "16/16 [==============================] - 0s 29ms/step - loss: 2.8227 - accuracy: 0.1869 - val_loss: 3.0205 - val_accuracy: 0.1857\n",
      "Epoch 12/60\n",
      "16/16 [==============================] - 0s 28ms/step - loss: 2.7910 - accuracy: 0.1828 - val_loss: 3.0103 - val_accuracy: 0.1619\n",
      "Epoch 13/60\n",
      "16/16 [==============================] - 0s 27ms/step - loss: 2.7268 - accuracy: 0.2218 - val_loss: 3.0320 - val_accuracy: 0.1857\n",
      "Epoch 14/60\n",
      "16/16 [==============================] - 0s 26ms/step - loss: 2.6699 - accuracy: 0.2361 - val_loss: 3.0558 - val_accuracy: 0.1714\n",
      "Epoch 15/60\n",
      "16/16 [==============================] - 0s 26ms/step - loss: 2.6696 - accuracy: 0.2136 - val_loss: 3.0323 - val_accuracy: 0.1762\n",
      "Epoch 16/60\n",
      "16/16 [==============================] - 0s 26ms/step - loss: 2.5589 - accuracy: 0.2485 - val_loss: 3.0649 - val_accuracy: 0.1619\n",
      "Epoch 17/60\n",
      "16/16 [==============================] - 0s 26ms/step - loss: 2.5709 - accuracy: 0.2710 - val_loss: 3.0274 - val_accuracy: 0.1667\n",
      "Epoch 18/60\n",
      "16/16 [==============================] - 0s 27ms/step - loss: 2.4529 - accuracy: 0.2608 - val_loss: 3.0497 - val_accuracy: 0.1476\n",
      "Epoch 19/60\n",
      "16/16 [==============================] - 0s 26ms/step - loss: 2.4652 - accuracy: 0.2998 - val_loss: 3.0758 - val_accuracy: 0.1905\n",
      "Epoch 20/60\n",
      "16/16 [==============================] - 0s 28ms/step - loss: 2.4190 - accuracy: 0.3101 - val_loss: 3.0997 - val_accuracy: 0.1571\n",
      "Epoch 21/60\n",
      "16/16 [==============================] - 0s 27ms/step - loss: 2.3169 - accuracy: 0.3388 - val_loss: 3.1005 - val_accuracy: 0.1905\n",
      "Epoch 22/60\n",
      "16/16 [==============================] - 0s 27ms/step - loss: 2.2533 - accuracy: 0.3347 - val_loss: 3.1147 - val_accuracy: 0.1667\n",
      "Epoch 23/60\n",
      "16/16 [==============================] - 0s 27ms/step - loss: 2.1807 - accuracy: 0.3511 - val_loss: 3.1434 - val_accuracy: 0.1952\n",
      "Epoch 24/60\n",
      "16/16 [==============================] - 0s 26ms/step - loss: 2.1484 - accuracy: 0.3737 - val_loss: 3.2214 - val_accuracy: 0.1810\n",
      "Epoch 25/60\n",
      "16/16 [==============================] - 0s 27ms/step - loss: 2.0777 - accuracy: 0.4107 - val_loss: 3.1861 - val_accuracy: 0.1619\n",
      "Epoch 26/60\n",
      "16/16 [==============================] - 0s 26ms/step - loss: 2.0207 - accuracy: 0.4025 - val_loss: 3.1704 - val_accuracy: 0.1667\n",
      "Epoch 27/60\n",
      "16/16 [==============================] - 0s 27ms/step - loss: 1.9824 - accuracy: 0.3840 - val_loss: 3.1799 - val_accuracy: 0.1762\n",
      "Epoch 28/60\n",
      "16/16 [==============================] - 0s 26ms/step - loss: 1.9097 - accuracy: 0.4374 - val_loss: 3.2567 - val_accuracy: 0.1857\n",
      "Epoch 29/60\n",
      "16/16 [==============================] - 0s 25ms/step - loss: 1.8391 - accuracy: 0.4538 - val_loss: 3.2603 - val_accuracy: 0.1524\n",
      "Epoch 30/60\n",
      "16/16 [==============================] - 0s 27ms/step - loss: 1.8068 - accuracy: 0.4456 - val_loss: 3.2228 - val_accuracy: 0.1714\n",
      "Epoch 31/60\n",
      "16/16 [==============================] - 0s 27ms/step - loss: 1.7114 - accuracy: 0.4867 - val_loss: 3.3661 - val_accuracy: 0.1857\n",
      "Epoch 32/60\n",
      "16/16 [==============================] - 0s 27ms/step - loss: 1.6486 - accuracy: 0.4990 - val_loss: 3.4054 - val_accuracy: 0.1667\n",
      "Epoch 33/60\n",
      "16/16 [==============================] - 0s 27ms/step - loss: 1.5467 - accuracy: 0.5133 - val_loss: 3.4288 - val_accuracy: 0.1810\n",
      "Epoch 34/60\n",
      "16/16 [==============================] - 0s 27ms/step - loss: 1.5003 - accuracy: 0.5421 - val_loss: 3.4327 - val_accuracy: 0.1905\n",
      "Epoch 35/60\n",
      "16/16 [==============================] - 0s 26ms/step - loss: 1.4303 - accuracy: 0.5852 - val_loss: 3.4933 - val_accuracy: 0.1810\n",
      "Epoch 36/60\n",
      "16/16 [==============================] - 0s 27ms/step - loss: 1.3144 - accuracy: 0.6304 - val_loss: 3.4917 - val_accuracy: 0.1762\n",
      "Epoch 37/60\n",
      "16/16 [==============================] - 0s 25ms/step - loss: 1.3176 - accuracy: 0.6078 - val_loss: 3.5608 - val_accuracy: 0.1857\n",
      "Epoch 38/60\n",
      "16/16 [==============================] - 0s 28ms/step - loss: 1.2273 - accuracy: 0.6468 - val_loss: 3.5657 - val_accuracy: 0.1857\n",
      "Epoch 39/60\n",
      "16/16 [==============================] - 0s 27ms/step - loss: 1.2042 - accuracy: 0.6530 - val_loss: 3.6084 - val_accuracy: 0.1667\n",
      "Epoch 40/60\n",
      "16/16 [==============================] - 0s 27ms/step - loss: 1.0761 - accuracy: 0.7146 - val_loss: 3.6404 - val_accuracy: 0.1952\n",
      "Epoch 41/60\n",
      "16/16 [==============================] - 0s 27ms/step - loss: 0.9815 - accuracy: 0.7331 - val_loss: 3.7632 - val_accuracy: 0.1857\n",
      "Epoch 42/60\n",
      "16/16 [==============================] - 0s 27ms/step - loss: 0.8803 - accuracy: 0.7782 - val_loss: 3.7482 - val_accuracy: 0.2048\n",
      "Epoch 43/60\n",
      "16/16 [==============================] - 0s 26ms/step - loss: 0.8641 - accuracy: 0.7577 - val_loss: 3.8238 - val_accuracy: 0.1810\n",
      "Epoch 44/60\n",
      "16/16 [==============================] - 0s 27ms/step - loss: 0.8279 - accuracy: 0.7823 - val_loss: 3.8172 - val_accuracy: 0.2190\n",
      "Epoch 45/60\n",
      "16/16 [==============================] - 0s 27ms/step - loss: 0.7471 - accuracy: 0.8152 - val_loss: 3.8643 - val_accuracy: 0.2000\n",
      "Epoch 46/60\n",
      "16/16 [==============================] - 0s 25ms/step - loss: 0.6772 - accuracy: 0.8439 - val_loss: 3.9778 - val_accuracy: 0.2000\n",
      "Epoch 47/60\n",
      "16/16 [==============================] - 0s 26ms/step - loss: 0.6374 - accuracy: 0.8542 - val_loss: 3.9605 - val_accuracy: 0.2000\n",
      "Epoch 48/60\n",
      "16/16 [==============================] - 0s 29ms/step - loss: 0.5505 - accuracy: 0.9055 - val_loss: 4.0029 - val_accuracy: 0.2000\n",
      "Epoch 49/60\n",
      "16/16 [==============================] - 0s 28ms/step - loss: 0.5054 - accuracy: 0.9199 - val_loss: 4.0594 - val_accuracy: 0.2000\n",
      "Epoch 50/60\n",
      "16/16 [==============================] - 0s 27ms/step - loss: 0.4867 - accuracy: 0.8973 - val_loss: 4.1009 - val_accuracy: 0.1952\n",
      "Epoch 51/60\n",
      "16/16 [==============================] - 0s 27ms/step - loss: 0.3942 - accuracy: 0.9548 - val_loss: 4.1686 - val_accuracy: 0.1952\n",
      "Epoch 52/60\n",
      "16/16 [==============================] - 0s 28ms/step - loss: 0.3528 - accuracy: 0.9528 - val_loss: 4.1767 - val_accuracy: 0.2048\n",
      "Epoch 53/60\n",
      "16/16 [==============================] - 0s 27ms/step - loss: 0.3538 - accuracy: 0.9569 - val_loss: 4.2884 - val_accuracy: 0.2000\n",
      "Epoch 54/60\n",
      "16/16 [==============================] - 0s 27ms/step - loss: 0.3207 - accuracy: 0.9713 - val_loss: 4.3139 - val_accuracy: 0.2095\n",
      "Epoch 55/60\n",
      "16/16 [==============================] - 0s 27ms/step - loss: 0.2873 - accuracy: 0.9692 - val_loss: 4.3695 - val_accuracy: 0.2048\n",
      "Epoch 56/60\n",
      "16/16 [==============================] - 0s 27ms/step - loss: 0.2427 - accuracy: 0.9774 - val_loss: 4.4035 - val_accuracy: 0.1857\n",
      "Epoch 57/60\n",
      "16/16 [==============================] - 0s 26ms/step - loss: 0.1984 - accuracy: 0.9938 - val_loss: 4.4511 - val_accuracy: 0.2143\n",
      "Epoch 58/60\n",
      "16/16 [==============================] - 0s 26ms/step - loss: 0.1983 - accuracy: 0.9774 - val_loss: 4.4870 - val_accuracy: 0.2095\n",
      "Epoch 59/60\n",
      "16/16 [==============================] - 0s 27ms/step - loss: 0.2020 - accuracy: 0.9836 - val_loss: 4.4832 - val_accuracy: 0.1905\n",
      "Epoch 60/60\n",
      "16/16 [==============================] - 0s 26ms/step - loss: 0.1774 - accuracy: 0.9815 - val_loss: 4.4787 - val_accuracy: 0.2000\n"
     ]
    }
   ],
   "source": [
    "model = Sequential()\n",
    "model.add(LSTM(200, input_shape=(X.shape[1], X.shape[2])))\n",
    "model.add(Dropout(0.2))\n",
    "model.add(Dense(vocab_size, activation='softmax'))\n",
    "print(model.summary())\n",
    "# compile model\n",
    "model.compile(loss='categorical_crossentropy', optimizer='adam', metrics=['accuracy'])\n",
    "# fit model\n",
    "history=model.fit(X, y, validation_split = 0.3, epochs=60)"
   ]
  },
  {
   "cell_type": "code",
   "execution_count": 23,
   "metadata": {
    "id": "JqLhP1LhXoT1"
   },
   "outputs": [],
   "source": [
    "# save the model to file\n",
    "model.save('model1.h5')\n",
    "# save the mapping\n",
    "dump(mapping, open('mapping1.pkl', 'wb'))\n"
   ]
  },
  {
   "cell_type": "code",
   "execution_count": 24,
   "metadata": {
    "id": "2IG1T-EfXvZa"
   },
   "outputs": [],
   "source": [
    "# load the model\n",
    "model = load_model('model1.h5')\n",
    "# load the mapping\n",
    "mapping = load(open('mapping1.pkl', 'rb'))"
   ]
  },
  {
   "cell_type": "code",
   "execution_count": 25,
   "metadata": {
    "colab": {
     "base_uri": "https://localhost:8080/"
    },
    "id": "DY_HiQVIXzm3",
    "outputId": "48d95a5e-d0c3-4436-d741-fba05e477dd8"
   },
   "outputs": [
    {
     "name": "stdout",
     "output_type": "stream",
     "text": [
      "Two roads diverged in a yellow wood\n",
      "I took the onher  oohed the ornri\n",
      "hello worlo,And ssmrrgI;ccaucu\n"
     ]
    }
   ],
   "source": [
    "# test start of rhyme\n",
    "print(generate_seq(model, mapping, 10, 'Two roads diver', 20))\n",
    "# test mid-line\n",
    "print(generate_seq(model, mapping, 10, 'I took the on', 20))\n",
    "# test not in original\n",
    "print(generate_seq(model, mapping, 10, 'hello worl', 20))"
   ]
  },
  {
   "cell_type": "markdown",
   "metadata": {
    "id": "-DwEHk8-YYad"
   },
   "source": [
    "# Summary\n",
    "\n",
    "Tried a similar approach on Robert Frost's poem The Road Not Taken, but lowered the number of epochs back to 60. It got the first line of the poem completely right, altough it could be a result of overfit, so practicality might be forsaken here. "
   ]
  },
  {
   "cell_type": "markdown",
   "metadata": {
    "id": "lVQL0_sMYebA"
   },
   "source": [
    "."
   ]
  }
 ],
 "metadata": {
  "colab": {
   "name": "Rakha_Mohamed_Lab7",
   "provenance": [],
   "toc_visible": true
  },
  "kernelspec": {
   "display_name": "Python 3",
   "language": "python",
   "name": "python3"
  },
  "language_info": {
   "codemirror_mode": {
    "name": "ipython",
    "version": 3
   },
   "file_extension": ".py",
   "mimetype": "text/x-python",
   "name": "python",
   "nbconvert_exporter": "python",
   "pygments_lexer": "ipython3",
   "version": "3.7.4"
  }
 },
 "nbformat": 4,
 "nbformat_minor": 1
}
