{
  "nbformat": 4,
  "nbformat_minor": 0,
  "metadata": {
    "colab": {
      "name": "Rakha_Mohamed_Lab4",
      "provenance": [],
      "collapsed_sections": [
        "GTO2KMti07__",
        "YAnuY8Sv1DoO",
        "ZlDfGvy61EMS",
        "1foS74O01FfP",
        "2rFY8D4Q1GsZ"
      ]
    },
    "kernelspec": {
      "name": "python3",
      "display_name": "Python 3"
    }
  },
  "cells": [
    {
      "cell_type": "markdown",
      "metadata": {
        "id": "1xxMXNDF7ckw",
        "colab_type": "text"
      },
      "source": [
        "\n",
        "\n",
        "```\n",
        "# This is formatted as code\n",
        "```\n",
        "\n",
        "# DMA Fall 20\n",
        "\n",
        "**Note** : This entire lab will be manually evaluated.\n",
        "\n",
        "Name : 'Mohamed Rakha' </br>\n",
        "Collaborator : ''"
      ]
    },
    {
      "cell_type": "markdown",
      "metadata": {
        "id": "Oyb_RNpFreOr",
        "colab_type": "text"
      },
      "source": [
        "# Lab 4: Neural Networks #\n"
      ]
    },
    {
      "cell_type": "code",
      "metadata": {
        "id": "yj9Uh79ereOs",
        "colab_type": "code",
        "colab": {}
      },
      "source": [
        "import pandas as pd\n",
        "from sklearn.neural_network import MLPClassifier\n",
        "from sklearn.svm import SVC\n",
        "\n",
        "from sklearn.preprocessing import StandardScaler, MinMaxScaler\n",
        "from sklearn.preprocessing import LabelEncoder, OneHotEncoder\n",
        "from sklearn.feature_extraction import DictVectorizer\n",
        "\n",
        "from sklearn.pipeline import Pipeline\n",
        "from sklearn.metrics import accuracy_score\n",
        "from sklearn.model_selection import train_test_split\n",
        "from sklearn.model_selection import GridSearchCV, ParameterGrid\n",
        "\n",
        "import numpy as np\n",
        "\n",
        "import warnings\n",
        "warnings.filterwarnings(\"ignore\")"
      ],
      "execution_count": null,
      "outputs": []
    },
    {
      "cell_type": "code",
      "metadata": {
        "id": "n6SRFrhfreOt",
        "colab_type": "code",
        "colab": {
          "base_uri": "https://localhost:8080/",
          "height": 612
        },
        "outputId": "5b9c6ce1-1d35-4b51-b603-b4b0a9912c89"
      },
      "source": [
        "!wget http://people.ischool.berkeley.edu/~zp/course_datasets/lab_4_training.csv\n",
        "!wget http://people.ischool.berkeley.edu/~zp/course_datasets/lab_4_test.csv\n",
        "\n",
        "df_train = pd.read_csv('./lab_4_training.csv')\n",
        "df_test = pd.read_csv('./lab_4_test.csv')\n",
        "df_train.head()"
      ],
      "execution_count": null,
      "outputs": [
        {
          "output_type": "stream",
          "text": [
            "URL transformed to HTTPS due to an HSTS policy\n",
            "--2020-09-23 19:09:06--  https://people.ischool.berkeley.edu/~zp/course_datasets/lab_4_training.csv\n",
            "Resolving people.ischool.berkeley.edu (people.ischool.berkeley.edu)... 128.32.78.16\n",
            "Connecting to people.ischool.berkeley.edu (people.ischool.berkeley.edu)|128.32.78.16|:443... connected.\n",
            "HTTP request sent, awaiting response... 200 OK\n",
            "Length: 105581 (103K) [text/csv]\n",
            "Saving to: ‘lab_4_training.csv.3’\n",
            "\n",
            "lab_4_training.csv. 100%[===================>] 103.11K   489KB/s    in 0.2s    \n",
            "\n",
            "2020-09-23 19:09:07 (489 KB/s) - ‘lab_4_training.csv.3’ saved [105581/105581]\n",
            "\n",
            "URL transformed to HTTPS due to an HSTS policy\n",
            "--2020-09-23 19:09:07--  https://people.ischool.berkeley.edu/~zp/course_datasets/lab_4_test.csv\n",
            "Resolving people.ischool.berkeley.edu (people.ischool.berkeley.edu)... 128.32.78.16\n",
            "Connecting to people.ischool.berkeley.edu (people.ischool.berkeley.edu)|128.32.78.16|:443... connected.\n",
            "HTTP request sent, awaiting response... 200 OK\n",
            "Length: 26523 (26K) [text/csv]\n",
            "Saving to: ‘lab_4_test.csv.3’\n",
            "\n",
            "lab_4_test.csv.3    100%[===================>]  25.90K  --.-KB/s    in 0.07s   \n",
            "\n",
            "2020-09-23 19:09:07 (369 KB/s) - ‘lab_4_test.csv.3’ saved [26523/26523]\n",
            "\n"
          ],
          "name": "stdout"
        },
        {
          "output_type": "execute_result",
          "data": {
            "text/html": [
              "<div>\n",
              "<style scoped>\n",
              "    .dataframe tbody tr th:only-of-type {\n",
              "        vertical-align: middle;\n",
              "    }\n",
              "\n",
              "    .dataframe tbody tr th {\n",
              "        vertical-align: top;\n",
              "    }\n",
              "\n",
              "    .dataframe thead th {\n",
              "        text-align: right;\n",
              "    }\n",
              "</style>\n",
              "<table border=\"1\" class=\"dataframe\">\n",
              "  <thead>\n",
              "    <tr style=\"text-align: right;\">\n",
              "      <th></th>\n",
              "      <th>Unnamed: 0</th>\n",
              "      <th>gender</th>\n",
              "      <th>age</th>\n",
              "      <th>year</th>\n",
              "      <th>eyecolor</th>\n",
              "      <th>height</th>\n",
              "      <th>miles</th>\n",
              "      <th>brothers</th>\n",
              "      <th>sisters</th>\n",
              "      <th>computertime</th>\n",
              "      <th>exercise</th>\n",
              "      <th>exercisehours</th>\n",
              "      <th>musiccds</th>\n",
              "      <th>playgames</th>\n",
              "      <th>watchtv</th>\n",
              "    </tr>\n",
              "  </thead>\n",
              "  <tbody>\n",
              "    <tr>\n",
              "      <th>0</th>\n",
              "      <td>1303</td>\n",
              "      <td>male</td>\n",
              "      <td>20</td>\n",
              "      <td>second</td>\n",
              "      <td>green</td>\n",
              "      <td>73.0</td>\n",
              "      <td>210.0</td>\n",
              "      <td>0</td>\n",
              "      <td>1</td>\n",
              "      <td>10.0</td>\n",
              "      <td>Yes</td>\n",
              "      <td>5.0</td>\n",
              "      <td>50.0</td>\n",
              "      <td>1.0</td>\n",
              "      <td>15.0</td>\n",
              "    </tr>\n",
              "    <tr>\n",
              "      <th>1</th>\n",
              "      <td>36</td>\n",
              "      <td>male</td>\n",
              "      <td>20</td>\n",
              "      <td>third</td>\n",
              "      <td>other</td>\n",
              "      <td>71.0</td>\n",
              "      <td>90.0</td>\n",
              "      <td>1</td>\n",
              "      <td>0</td>\n",
              "      <td>15.0</td>\n",
              "      <td>Yes</td>\n",
              "      <td>4.0</td>\n",
              "      <td>10.0</td>\n",
              "      <td>0.0</td>\n",
              "      <td>1.0</td>\n",
              "    </tr>\n",
              "    <tr>\n",
              "      <th>2</th>\n",
              "      <td>489</td>\n",
              "      <td>male</td>\n",
              "      <td>22</td>\n",
              "      <td>fourth</td>\n",
              "      <td>hazel</td>\n",
              "      <td>75.0</td>\n",
              "      <td>200.0</td>\n",
              "      <td>0</td>\n",
              "      <td>1</td>\n",
              "      <td>1.0</td>\n",
              "      <td>Yes</td>\n",
              "      <td>2.0</td>\n",
              "      <td>150.0</td>\n",
              "      <td>1.0</td>\n",
              "      <td>10.0</td>\n",
              "    </tr>\n",
              "    <tr>\n",
              "      <th>3</th>\n",
              "      <td>1415</td>\n",
              "      <td>male</td>\n",
              "      <td>19</td>\n",
              "      <td>second</td>\n",
              "      <td>brown</td>\n",
              "      <td>72.0</td>\n",
              "      <td>35.0</td>\n",
              "      <td>2</td>\n",
              "      <td>2</td>\n",
              "      <td>20.0</td>\n",
              "      <td>Yes</td>\n",
              "      <td>5.0</td>\n",
              "      <td>100.0</td>\n",
              "      <td>0.0</td>\n",
              "      <td>7.0</td>\n",
              "    </tr>\n",
              "    <tr>\n",
              "      <th>4</th>\n",
              "      <td>616</td>\n",
              "      <td>male</td>\n",
              "      <td>22</td>\n",
              "      <td>fourth</td>\n",
              "      <td>hazel</td>\n",
              "      <td>71.0</td>\n",
              "      <td>15.0</td>\n",
              "      <td>2</td>\n",
              "      <td>1</td>\n",
              "      <td>10.0</td>\n",
              "      <td>Yes</td>\n",
              "      <td>7.0</td>\n",
              "      <td>10.0</td>\n",
              "      <td>0.0</td>\n",
              "      <td>5.0</td>\n",
              "    </tr>\n",
              "  </tbody>\n",
              "</table>\n",
              "</div>"
            ],
            "text/plain": [
              "   Unnamed: 0 gender  age    year  ... exercisehours  musiccds  playgames  watchtv\n",
              "0        1303   male   20  second  ...           5.0      50.0        1.0     15.0\n",
              "1          36   male   20   third  ...           4.0      10.0        0.0      1.0\n",
              "2         489   male   22  fourth  ...           2.0     150.0        1.0     10.0\n",
              "3        1415   male   19  second  ...           5.0     100.0        0.0      7.0\n",
              "4         616   male   22  fourth  ...           7.0      10.0        0.0      5.0\n",
              "\n",
              "[5 rows x 15 columns]"
            ]
          },
          "metadata": {
            "tags": []
          },
          "execution_count": 2
        }
      ]
    },
    {
      "cell_type": "markdown",
      "metadata": {
        "id": "RGt_10ZAreOv",
        "colab_type": "text"
      },
      "source": [
        "***\n",
        "### Question 1###\n",
        "Calculate a baseline accuracy measure using the majority class, assuming a target variable of 'gender'. The majority class is the most common value of the target variable in a particular dataset. Accuracy is calculated as (true positives + true negatives) / (all negatives and positives)"
      ]
    },
    {
      "cell_type": "markdown",
      "metadata": {
        "id": "UZPiLgekreOw",
        "colab_type": "text"
      },
      "source": [
        "**Question 1.a**  \n",
        "Find the majority class in the training set. If you always predicted this class in the training set, what would your accuracy be?"
      ]
    },
    {
      "cell_type": "code",
      "metadata": {
        "id": "iYjEFc1greOx",
        "colab_type": "code",
        "colab": {
          "base_uri": "https://localhost:8080/",
          "height": 34
        },
        "outputId": "1cc3d755-685b-4942-c579-cbd9e5e74ad4"
      },
      "source": [
        "# YOUR CODE HERE\n",
        "len(df_train[df_train[\"gender\"] == \"female\"])/len(df_train)"
      ],
      "execution_count": null,
      "outputs": [
        {
          "output_type": "execute_result",
          "data": {
            "text/plain": [
              "0.5377358490566038"
            ]
          },
          "metadata": {
            "tags": []
          },
          "execution_count": 3
        }
      ]
    },
    {
      "cell_type": "markdown",
      "metadata": {
        "id": "RtvFM-hM0y2o",
        "colab_type": "text"
      },
      "source": [
        "###ANSWER: 0.5377358490566038"
      ]
    },
    {
      "cell_type": "markdown",
      "metadata": {
        "id": "ULPKW0IvreOy",
        "colab_type": "text"
      },
      "source": [
        "**Question 1.b**   \n",
        "If you always predicted this same class (majority from the training set) in the test set, what would your accuracy be?"
      ]
    },
    {
      "cell_type": "code",
      "metadata": {
        "colab_type": "code",
        "id": "dfU5mwh405vq",
        "colab": {
          "base_uri": "https://localhost:8080/",
          "height": 34
        },
        "outputId": "39eedf4a-607b-457e-f3fd-452b02dcb85a"
      },
      "source": [
        "# YOUR CODE HERE\n",
        "len(df_test[df_test[\"gender\"] == \"female\"])/len(df_test)"
      ],
      "execution_count": null,
      "outputs": [
        {
          "output_type": "execute_result",
          "data": {
            "text/plain": [
              "0.5226130653266332"
            ]
          },
          "metadata": {
            "tags": []
          },
          "execution_count": 4
        }
      ]
    },
    {
      "cell_type": "markdown",
      "metadata": {
        "colab_type": "text",
        "id": "pINRUJxG05v4"
      },
      "source": [
        "###ANSWER: 0.5226130653266332"
      ]
    },
    {
      "cell_type": "markdown",
      "metadata": {
        "id": "GKb2Ju-GreO0",
        "colab_type": "text"
      },
      "source": [
        "***\n",
        "### Question 2 ###\n",
        "Get started with Neural Networks."
      ]
    },
    {
      "cell_type": "markdown",
      "metadata": {
        "id": "UYI6e3F3reO0",
        "colab_type": "text"
      },
      "source": [
        "   \n",
        "Choose a NN implementation (eg: scikit-learn) and specify which you choose. Be sure the implementation allows you to modify the number of hidden layers and hidden nodes per layer.  \n",
        "\n",
        "NOTE: When possible, specify the logsig (sigmoid/logistc) function as the transfer function (another word for activation function) and use Levenberg-Marquardt backpropagation (lbfgs). It is possible to specify logistic in Sklearn MLPclassifier (Neural net).  "
      ]
    },
    {
      "cell_type": "markdown",
      "metadata": {
        "id": "4am3sGc4reO1",
        "colab_type": "text"
      },
      "source": [
        "**Question 2.a**   \n",
        "Train a neural network with a single 10 node hidden layer. Only use the Height feature of the dataset to predict the Gender. You will have to change Gender to a 0 and 1 class. After training, use your trained model to predict the class using the height feature from the training set. What was the accuracy of this prediction?"
      ]
    },
    {
      "cell_type": "code",
      "metadata": {
        "colab_type": "code",
        "id": "jbAzltaw067l",
        "colab": {}
      },
      "source": [
        "# YOUR CODE HERE\n",
        "df_trainc = df_train.copy()\n",
        "df_testc = df_test.copy()\n",
        "\n",
        "df_trainc[\"gender\"] = pd.get_dummies(df_trainc[\"gender\"])['female']\n",
        "df_testc[\"gender\"] = pd.get_dummies(df_testc[\"gender\"])['female']"
      ],
      "execution_count": null,
      "outputs": []
    },
    {
      "cell_type": "code",
      "metadata": {
        "id": "rAE_XB5ALiyI",
        "colab_type": "code",
        "colab": {
          "base_uri": "https://localhost:8080/",
          "height": 34
        },
        "outputId": "ba11af67-b996-4633-ad89-3c3c5309bd27"
      },
      "source": [
        "X = df_trainc[\"height\"].values.reshape(-1, 1)\n",
        "Y = df_trainc[\"gender\"].values.reshape(-1, 1)\n",
        "\n",
        "clf = MLPClassifier(hidden_layer_sizes=10, max_iter=100,\n",
        "                     solver='lbfgs', activation=\"logistic\")\n",
        "clf.fit(X,Y)\n",
        "Y_pred = clf.predict(X)\n",
        "accuracy_score(Y, Y_pred)"
      ],
      "execution_count": null,
      "outputs": [
        {
          "output_type": "execute_result",
          "data": {
            "text/plain": [
              "0.7176100628930817"
            ]
          },
          "metadata": {
            "tags": []
          },
          "execution_count": 6
        }
      ]
    },
    {
      "cell_type": "markdown",
      "metadata": {
        "colab_type": "text",
        "id": "EuaCk0l0067q"
      },
      "source": [
        "###ANSWER: 0.7176100628930817"
      ]
    },
    {
      "cell_type": "markdown",
      "metadata": {
        "id": "AkqzIeshreO2",
        "colab_type": "text"
      },
      "source": [
        "**Question 2.b**  \n",
        "Take the trained model from question 2.a and use it to predict the test set. This can be accomplished by taking the trained model and giving it the Height feature values from the test set. What is the accuracy of this model on the test set?"
      ]
    },
    {
      "cell_type": "code",
      "metadata": {
        "colab_type": "code",
        "id": "Tw25ezWp07hj",
        "colab": {
          "base_uri": "https://localhost:8080/",
          "height": 34
        },
        "outputId": "e52a023c-3732-4607-e2f0-0ef6281eb0bb"
      },
      "source": [
        "# YOUR CODE HERE\n",
        "X_test = df_testc[\"height\"].values.reshape(-1, 1)\n",
        "Y_test = df_testc[\"gender\"].values.reshape(-1, 1)\n",
        "\n",
        "y_pred_test=clf.predict(X_test)\n",
        "accuracy_score(Y_test,y_pred_test)"
      ],
      "execution_count": null,
      "outputs": [
        {
          "output_type": "execute_result",
          "data": {
            "text/plain": [
              "0.7361809045226131"
            ]
          },
          "metadata": {
            "tags": []
          },
          "execution_count": 7
        }
      ]
    },
    {
      "cell_type": "markdown",
      "metadata": {
        "colab_type": "text",
        "id": "HbHMAFvw07hm"
      },
      "source": [
        "###ANSWER: 0.7361809045226131"
      ]
    },
    {
      "cell_type": "markdown",
      "metadata": {
        "id": "uMmIfsNEreO3",
        "colab_type": "text"
      },
      "source": [
        "**Question 2.c**   \n",
        "Neural Networks tend to prefer smaller, normalized feature values. Try taking the log of the height feature in both training and testing sets or use a Standard Scalar operation in SKlearn to centre and normalize the data between 0-1 for continuous values. Repeat question 2.a and 2.b with the log version or the normalized and centered version of this feature"
      ]
    },
    {
      "cell_type": "code",
      "metadata": {
        "colab_type": "code",
        "id": "wDhCZPaU07_8",
        "colab": {
          "base_uri": "https://localhost:8080/",
          "height": 51
        },
        "outputId": "41fa7100-b43d-4ce8-94ee-0731e15e3ddc"
      },
      "source": [
        "# YOUR CODE HERE\n",
        "import sklearn\n",
        "from sklearn import preprocessing\n",
        "\n",
        "X_train = np.log(X)\n",
        "X_test = np.log(X_test)\n",
        "\n",
        "clf = MLPClassifier(hidden_layer_sizes=10, max_iter=100,\n",
        "                     solver='lbfgs', activation=\"logistic\")\n",
        "\n",
        "clf.fit(X_train,Y)\n",
        "Y_pred = clf.predict(X_train)\n",
        "print(accuracy_score(Y, Y_pred))\n",
        "\n",
        "y_pred_test=clf.predict(X_test)\n",
        "print(accuracy_score(Y_test,y_pred_test))"
      ],
      "execution_count": null,
      "outputs": [
        {
          "output_type": "stream",
          "text": [
            "0.5377358490566038\n",
            "0.5226130653266332\n"
          ],
          "name": "stdout"
        }
      ]
    },
    {
      "cell_type": "markdown",
      "metadata": {
        "colab_type": "text",
        "id": "GTO2KMti07__"
      },
      "source": [
        "###ANSWER: \n",
        "train: 0.5377358490566038</br>\n",
        "test:  0.5226130653266332"
      ]
    },
    {
      "cell_type": "markdown",
      "metadata": {
        "id": "2_SlOdcarePC",
        "colab_type": "text"
      },
      "source": [
        "***\n",
        "\n",
        "### Question 3###\n",
        "The rest of features in this dataset barring a few are categorical. No ML method accepts categorical features, so transform year, eyecolor, exercise into a set of binary features, one feature per unique original feature value, and mark the binary feature as ‘1’ if the feature value matches the original value and ‘0’ otherwise. Using only these binary variable transformed features, train and predict the class of the test set. What was your accuracy using Neural Network with a single 10 node hidden layer? During training, use a maximum number of iterations of 50."
      ]
    },
    {
      "cell_type": "code",
      "metadata": {
        "colab_type": "code",
        "id": "YjhzBFNV1Aip",
        "colab": {}
      },
      "source": [
        "# YOUR CODE HERE\n",
        "df_trainc['year'] = pd.get_dummies(df_trainc['year'])['first']\n",
        "df_trainc['eyecolor'] = pd.get_dummies(df_trainc['eyecolor'])['brown']\n",
        "df_trainc['exercise'] = pd.get_dummies(df_trainc['exercise'])['Yes']\n",
        "\n",
        "df_testc['year'] = pd.get_dummies(df_testc['year'])['first']\n",
        "df_testc['eyecolor'] = pd.get_dummies(df_testc['eyecolor'])['brown']\n",
        "df_testc['exercise'] = pd.get_dummies(df_testc['exercise'])['Yes']"
      ],
      "execution_count": null,
      "outputs": []
    },
    {
      "cell_type": "code",
      "metadata": {
        "id": "rrABzqP-VBUu",
        "colab_type": "code",
        "colab": {
          "base_uri": "https://localhost:8080/",
          "height": 51
        },
        "outputId": "a3f1c268-bd19-472a-9a4b-60da20c63ea7"
      },
      "source": [
        "X_train = df_trainc[[\"year\",\"eyecolor\",\"exercise\"]].values\n",
        "X_test = df_testc[[\"year\",\"eyecolor\",\"exercise\"]].values\n",
        "\n",
        "clf = MLPClassifier(hidden_layer_sizes=10, max_iter=50,\n",
        "                     solver='lbfgs', activation=\"logistic\")\n",
        "\n",
        "clf.fit(X_train,Y)\n",
        "Y_pred = clf.predict(X_train)\n",
        "print(accuracy_score(Y, Y_pred))\n",
        "\n",
        "y_pred_test=clf.predict(X_test)\n",
        "print(accuracy_score(Y_test,y_pred_test))"
      ],
      "execution_count": null,
      "outputs": [
        {
          "output_type": "stream",
          "text": [
            "0.5377358490566038\n",
            "0.5226130653266332\n"
          ],
          "name": "stdout"
        }
      ]
    },
    {
      "cell_type": "markdown",
      "metadata": {
        "colab_type": "text",
        "id": "PyQ1EvAY1Ait"
      },
      "source": [
        "###ANSWER: \n",
        "train: 0.5377358490566038</br>\n",
        "test:  0.5226130653266332"
      ]
    },
    {
      "cell_type": "markdown",
      "metadata": {
        "id": "dSSr9sBlrePG",
        "colab_type": "text"
      },
      "source": [
        "***\n",
        "### Question 4###\n",
        "Using a NN, report the accuracy on  the test set of a model that trained only on the height and the eye color features of instances in the training set."
      ]
    },
    {
      "cell_type": "markdown",
      "metadata": {
        "id": "rMNSlOmJrePG",
        "colab_type": "text"
      },
      "source": [
        "**Question 4.a**  \n",
        "What is the accuracy on the test set using the original height values (no pre-processing) and eye color as a one-hot?"
      ]
    },
    {
      "cell_type": "code",
      "metadata": {
        "colab_type": "code",
        "id": "F_vN4tyv1Ckq",
        "colab": {
          "base_uri": "https://localhost:8080/",
          "height": 34
        },
        "outputId": "9cebc7ba-033c-4fdd-b5c4-c953f543c595"
      },
      "source": [
        "# YOUR CODE HERE\n",
        "X_train = pd.get_dummies(df_train['eyecolor'])\n",
        "X_train['height'] = df_train[\"height\"]\n",
        "\n",
        "X_test = pd.get_dummies(df_test['eyecolor'])\n",
        "X_test['height'] = df_test[\"height\"]\n",
        "\n",
        "clf = MLPClassifier(hidden_layer_sizes=10, max_iter=100,\n",
        "                     solver='lbfgs', activation=\"logistic\")\n",
        "\n",
        "clf.fit(X_train,Y)\n",
        "\n",
        "y_pred_test=clf.predict(X_test)\n",
        "print(accuracy_score(Y_test,y_pred_test))"
      ],
      "execution_count": null,
      "outputs": [
        {
          "output_type": "stream",
          "text": [
            "0.5226130653266332\n"
          ],
          "name": "stdout"
        }
      ]
    },
    {
      "cell_type": "markdown",
      "metadata": {
        "colab_type": "text",
        "id": "CaL2o0TW1Cks"
      },
      "source": [
        "###ANSWER: 0.5226130653266332"
      ]
    },
    {
      "cell_type": "markdown",
      "metadata": {
        "id": "NC8Ipx9QrePH",
        "colab_type": "text"
      },
      "source": [
        "**Question 4.b**  \n",
        "What is the accuracy on the test set using the log of height values (applied to both training and testing sets) and eye color as a one-hot?"
      ]
    },
    {
      "cell_type": "code",
      "metadata": {
        "colab_type": "code",
        "id": "cFvzNv6O1DG3",
        "colab": {
          "base_uri": "https://localhost:8080/",
          "height": 34
        },
        "outputId": "d3394a7e-f258-4362-84d3-e6c450741021"
      },
      "source": [
        "# YOUR CODE HERE\n",
        "X_train[\"height\"] = np.log(X_train['height'])\n",
        "X_test[\"height\"] = np.log(X_test['height'])\n",
        "\n",
        "clf = MLPClassifier(hidden_layer_sizes=10, max_iter=100,\n",
        "                     solver='lbfgs', activation=\"logistic\")\n",
        "\n",
        "clf.fit(X_train,Y)\n",
        "\n",
        "y_pred_test=clf.predict(X_test)\n",
        "print(accuracy_score(Y_test,y_pred_test))"
      ],
      "execution_count": null,
      "outputs": [
        {
          "output_type": "stream",
          "text": [
            "0.7361809045226131\n"
          ],
          "name": "stdout"
        }
      ]
    },
    {
      "cell_type": "markdown",
      "metadata": {
        "colab_type": "text",
        "id": "Pt3NMp1M1DG4"
      },
      "source": [
        "###ANSWER: 0.7361809045226131"
      ]
    },
    {
      "cell_type": "markdown",
      "metadata": {
        "id": "iYm2jqnprePI",
        "colab_type": "text"
      },
      "source": [
        "**Question 4.c**  \n",
        "What is the accuracy on the test set using the Z-score of height values and eye color as a one-hot? \n",
        "\n",
        "Z-score is a normalization function. It is the value of a feature minus the average value for that feature (in the training set), divided by the standard deviation of that feature (in the training set). Remember that, whenever applying a function to a feature in the training set, it also has to be applied to that same feature in the test set."
      ]
    },
    {
      "cell_type": "code",
      "metadata": {
        "colab_type": "code",
        "id": "P3mDjF6N1DoN",
        "colab": {
          "base_uri": "https://localhost:8080/",
          "height": 34
        },
        "outputId": "0bafd32e-012c-491f-ef81-ca8cc4ff394f"
      },
      "source": [
        "# YOUR CODE HERE\n",
        "from scipy import stats\n",
        "\n",
        "X_train['height'] = stats.zscore(X_train['height'])\n",
        "X_test['height'] = stats.zscore(X_test['height'])\n",
        "\n",
        "clf = MLPClassifier(hidden_layer_sizes=10, max_iter=100,\n",
        "                     solver='lbfgs', activation=\"logistic\")\n",
        "\n",
        "clf.fit(X_train,Y)\n",
        "\n",
        "y_pred_test=clf.predict(X_test)\n",
        "print(accuracy_score(Y_test,y_pred_test))"
      ],
      "execution_count": null,
      "outputs": [
        {
          "output_type": "stream",
          "text": [
            "0.8693467336683417\n"
          ],
          "name": "stdout"
        }
      ]
    },
    {
      "cell_type": "markdown",
      "metadata": {
        "colab_type": "text",
        "id": "YAnuY8Sv1DoO"
      },
      "source": [
        "###ANSWER: 0.8693467336683417"
      ]
    },
    {
      "cell_type": "markdown",
      "metadata": {
        "id": "Fh9qwu_9rePJ",
        "colab_type": "text"
      },
      "source": [
        "***\n",
        "### Question 5 ###\n",
        "Repeat question 4 for exercise hours + eye color"
      ]
    },
    {
      "cell_type": "code",
      "metadata": {
        "id": "ylV1cYwSPeIe",
        "colab_type": "code",
        "colab": {}
      },
      "source": [
        "X_train = X_train.drop(columns=['height'])\n",
        "X_test = X_test.drop(columns=['height'])"
      ],
      "execution_count": null,
      "outputs": []
    },
    {
      "cell_type": "code",
      "metadata": {
        "colab_type": "code",
        "id": "JAgHz_r-1EMR",
        "colab": {
          "base_uri": "https://localhost:8080/",
          "height": 34
        },
        "outputId": "e58d8fc1-ea64-456c-ed78-062319fc30da"
      },
      "source": [
        "# YOUR CODE HERE\n",
        "#4a\n",
        "X_train['exercisehours'] = df_train['exercisehours']\n",
        "X_test['exercisehours'] = df_test['exercisehours']\n",
        "\n",
        "\n",
        "clf = MLPClassifier(hidden_layer_sizes=10, max_iter=100,\n",
        "                     solver='lbfgs', activation=\"logistic\")\n",
        "\n",
        "clf.fit(X_train,Y)\n",
        "\n",
        "y_pred_test=clf.predict(X_test)\n",
        "print(accuracy_score(Y_test,y_pred_test))"
      ],
      "execution_count": null,
      "outputs": [
        {
          "output_type": "stream",
          "text": [
            "0.5804020100502513\n"
          ],
          "name": "stdout"
        }
      ]
    },
    {
      "cell_type": "code",
      "metadata": {
        "id": "I2BHfjOKPu3m",
        "colab_type": "code",
        "colab": {
          "base_uri": "https://localhost:8080/",
          "height": 34
        },
        "outputId": "b7721f9e-76d2-4bd0-edfe-8c43c79d08d0"
      },
      "source": [
        "X_train = X_train.replace(0,0.1)\n",
        "X_train[\"exercisehours\"] = np.log(X_train['exercisehours'])\n",
        "\n",
        "X_test = X_test.replace(0,0.1)\n",
        "X_test[\"exercisehours\"] = np.log(X_test['exercisehours'])\n",
        "\n",
        "clf = MLPClassifier(hidden_layer_sizes=10, max_iter=100,\n",
        "                     solver='lbfgs', activation=\"logistic\")\n",
        "\n",
        "clf.fit(X_train,Y)\n",
        "\n",
        "y_pred_test=clf.predict(X_test)\n",
        "print(accuracy_score(Y_test,y_pred_test))"
      ],
      "execution_count": null,
      "outputs": [
        {
          "output_type": "stream",
          "text": [
            "0.5778894472361809\n"
          ],
          "name": "stdout"
        }
      ]
    },
    {
      "cell_type": "code",
      "metadata": {
        "id": "z6a6lA__Q7hL",
        "colab_type": "code",
        "colab": {
          "base_uri": "https://localhost:8080/",
          "height": 34
        },
        "outputId": "8f727208-b716-4b93-eadd-e77628bf5be8"
      },
      "source": [
        "X_train['exercisehours'] = stats.zscore(X_train['exercisehours'])\n",
        "X_test['exercisehours'] = stats.zscore(X_test['exercisehours'])\n",
        "\n",
        "clf = MLPClassifier(hidden_layer_sizes=10, max_iter=100,\n",
        "                     solver='lbfgs', activation=\"logistic\")\n",
        "\n",
        "clf.fit(X_train,Y)\n",
        "\n",
        "y_pred_test=clf.predict(X_test)\n",
        "print(accuracy_score(Y_test,y_pred_test))"
      ],
      "execution_count": null,
      "outputs": [
        {
          "output_type": "stream",
          "text": [
            "0.5678391959798995\n"
          ],
          "name": "stdout"
        }
      ]
    },
    {
      "cell_type": "markdown",
      "metadata": {
        "colab_type": "text",
        "id": "ZlDfGvy61EMS"
      },
      "source": [
        "###ANSWER: \n",
        "regular: 0.5804020100502513 </br>\n",
        "log: 0.5778894472361809 </br>\n",
        "z-score: 0.5678391959798995"
      ]
    },
    {
      "cell_type": "markdown",
      "metadata": {
        "id": "JYVuaPWgrePL",
        "colab_type": "text"
      },
      "source": [
        "***\n",
        "### Question 6###\n",
        "Combine the features from question 3, 4, and 5 (year, eyecolor, exercise, height, exercise hours). For numeric features use the best normalization method from questions 4 and 5."
      ]
    },
    {
      "cell_type": "markdown",
      "metadata": {
        "id": "1iAiFhlFrePM",
        "colab_type": "text"
      },
      "source": [
        "**Question 6.a**  \n",
        "What was the NN accuracy on the test set using the single 10 node hidden layer?"
      ]
    },
    {
      "cell_type": "code",
      "metadata": {
        "colab_type": "code",
        "id": "QuLJ6sTB1FfN",
        "colab": {
          "base_uri": "https://localhost:8080/",
          "height": 34
        },
        "outputId": "e023035a-1662-4ed2-fa7b-ba904293c518"
      },
      "source": [
        "# YOUR CODE HERE\n",
        "df_train['year'] = df_train['year'].replace('first\"', 'first')\n",
        "X_train = pd.get_dummies(df_train[['year','eyecolor','exercise']])\n",
        "X_train['height'] = stats.zscore(df_train['height'])\n",
        "X_train['exercisehours'] = df_train['exercisehours']\n",
        "X_train = X_train.replace(0,0.1)\n",
        "X_train[\"exercisehours\"] = np.log(X_train['exercisehours'])\n",
        "\n",
        "df_test['year'] = df_test['year'].replace('first\"', 'first')\n",
        "X_test = pd.get_dummies(df_test[['year','eyecolor','exercise']])\n",
        "X_test['height'] = stats.zscore(df_test['height'])\n",
        "X_test['exercisehours'] = df_test['exercisehours']\n",
        "X_test = X_test.replace(0,0.1)\n",
        "X_test[\"exercisehours\"] = np.log(X_test['exercisehours'])\n",
        "\n",
        "clf = MLPClassifier(hidden_layer_sizes=10, max_iter=100,\n",
        "                     solver='lbfgs', activation=\"logistic\")\n",
        "\n",
        "clf.fit(X_train,Y)\n",
        "\n",
        "y_pred_test=clf.predict(X_test)\n",
        "print(accuracy_score(Y_test,y_pred_test))"
      ],
      "execution_count": null,
      "outputs": [
        {
          "output_type": "stream",
          "text": [
            "0.8844221105527639\n"
          ],
          "name": "stdout"
        }
      ]
    },
    {
      "cell_type": "markdown",
      "metadata": {
        "colab_type": "text",
        "id": "1foS74O01FfP"
      },
      "source": [
        "###ANSWER: 0.8844221105527639"
      ]
    },
    {
      "cell_type": "markdown",
      "metadata": {
        "id": "Jusc-kofrePP",
        "colab_type": "text"
      },
      "source": [
        "***\n",
        "### Question 7- Bonus (10%)###\n",
        "Can you improve your test set prediction accuracy by 5% or more?  \n",
        "\n",
        "See how close to that milestone of improvement you can get by modifying the tuning parameters of  Neural Networks (the number of hidden layers, number of hidden nodes in each layer, the learning rate aka mu). A great guide to tuning parameters is explained in this guide: http://www.csie.ntu.edu.tw/~cjlin/papers/guide/guide.pdf. \n",
        "\n",
        "While the guide is specific to SVM and in particular the C and gamma parameters of the RBF kernel, the method applies to generally to any ML technique with tuning parameters.\n",
        "\n",
        "Please also write a paragraph in a markdown cell below with an explanation of your approach and evaluation metrics.\n"
      ]
    },
    {
      "cell_type": "code",
      "metadata": {
        "colab_type": "code",
        "id": "qvpoUdeq1GsX",
        "colab": {}
      },
      "source": [
        "# YOUR CODE HERE"
      ],
      "execution_count": null,
      "outputs": []
    },
    {
      "cell_type": "markdown",
      "metadata": {
        "colab_type": "text",
        "id": "2rFY8D4Q1GsZ"
      },
      "source": [
        "###ANSWER: "
      ]
    }
  ]
}
