{
  "nbformat": 4,
  "nbformat_minor": 0,
  "metadata": {
    "kernelspec": {
      "display_name": "Python 3",
      "language": "python",
      "name": "python3"
    },
    "language_info": {
      "codemirror_mode": {
        "name": "ipython",
        "version": 3
      },
      "file_extension": ".py",
      "mimetype": "text/x-python",
      "name": "python",
      "nbconvert_exporter": "python",
      "pygments_lexer": "ipython3",
      "version": "3.6.9"
    },
    "colab": {
      "name": "Rakha_Mohamed_Lab1",
      "provenance": [],
      "collapsed_sections": []
    }
  },
  "cells": [
    {
      "cell_type": "markdown",
      "metadata": {
        "id": "vKduyi9dItO4",
        "colab_type": "text"
      },
      "source": [
        "Make sure you fill in any place that says `YOUR CODE HERE` or `YOUR ANSWER HERE`, as well as your name below:"
      ]
    },
    {
      "cell_type": "code",
      "metadata": {
        "id": "FsEVbU41ItO7",
        "colab_type": "code",
        "colab": {}
      },
      "source": [
        "NAME = \"Mohamed Rakha\""
      ],
      "execution_count": 1,
      "outputs": []
    },
    {
      "cell_type": "markdown",
      "metadata": {
        "id": "M7sDljEMItPA",
        "colab_type": "text"
      },
      "source": [
        "---"
      ]
    },
    {
      "cell_type": "markdown",
      "metadata": {
        "deletable": false,
        "editable": false,
        "nbgrader": {
          "checksum": "720281502b9b9c7f8930d61c682cb061",
          "grade": false,
          "grade_id": "cell-731531e531b99c39",
          "locked": true,
          "schema_version": 1,
          "solution": false
        },
        "id": "LJNmSc7sItPB",
        "colab_type": "text"
      },
      "source": [
        "# Lab 1 - Data Preprocessing\n",
        "\n",
        "Data transformations are useful for preparing a dataset for answering a particular question. Part of this process involves generating features from the dataset you find relevant to the question at hand. For this lab, we will be using a Yelp reviews dataset. Each row in the dataset depicts one review along with the features of the review (the reviewer, the review text, etc.). The goal of this lab is to convert this reviews dataset into a reviewers dataset by creating different features of each reviewer.\n",
        "\n",
        "The submission for this assignment should be done *individually*.\n",
        "\n",
        "# Environment Setup\n",
        "Run this cell to setup your environment."
      ]
    },
    {
      "cell_type": "code",
      "metadata": {
        "deletable": false,
        "editable": false,
        "nbgrader": {
          "checksum": "c4f9a2a35aae087d70dccad8514e5e4f",
          "grade": false,
          "grade_id": "cell-88d067a4407f02bf",
          "locked": true,
          "schema_version": 1,
          "solution": false
        },
        "id": "LIH96tFzItPC",
        "colab_type": "code",
        "colab": {
          "base_uri": "https://localhost:8080/",
          "height": 238
        },
        "outputId": "f16ac892-84e3-4233-da90-43da29ddd70f"
      },
      "source": [
        "# Importing libraries\n",
        "import pandas as pd\n",
        "import math\n",
        "import numpy as np\n",
        "import os\n",
        "print('Libraries Imported')\n",
        "\n",
        "#DOWNLOADING DATASET IF NOT PRESENT\n",
        "!wget -nc http://people.ischool.berkeley.edu/~zp/course_datasets/yelp_reviews.csv\n",
        "\n",
        "#!unzip yelp_reviews.zip\n",
        "print('Dataset Downloaded: yelp_reviews.csv')\n",
        "df=pd.read_csv('yelp_reviews.csv')\n",
        "print(df.head())\n",
        "\n",
        "print('Setup Complete')"
      ],
      "execution_count": 2,
      "outputs": [
        {
          "output_type": "stream",
          "text": [
            "Libraries Imported\n",
            "File ‘yelp_reviews.csv’ already there; not retrieving.\n",
            "\n",
            "Dataset Downloaded: yelp_reviews.csv\n",
            "     type             business_id  ... useful_votes  funny_votes\n",
            "0  review  mxrXVZWc6PWk81gvOVNOUw  ...            0            0\n",
            "1  review  mxrXVZWc6PWk81gvOVNOUw  ...            0            0\n",
            "2  review  kK4AzZ0YWI-U2G-paAL7Fg  ...            0            0\n",
            "3  review  mxrXVZWc6PWk81gvOVNOUw  ...            1            0\n",
            "4  review  mxrXVZWc6PWk81gvOVNOUw  ...            0            1\n",
            "\n",
            "[5 rows x 9 columns]\n",
            "Setup Complete\n"
          ],
          "name": "stdout"
        }
      ]
    },
    {
      "cell_type": "markdown",
      "metadata": {
        "deletable": false,
        "editable": false,
        "nbgrader": {
          "checksum": "51be56b978a555a682bd1a02d85a7434",
          "grade": false,
          "grade_id": "cell-63034c0f0a81dc85",
          "locked": true,
          "schema_version": 1,
          "solution": false
        },
        "id": "esN8qRHkItPG",
        "colab_type": "text"
      },
      "source": [
        "**Q1: What was the highest number of reviews for any one business_id?**\n",
        "- For this task, we will need to group the reviews dataset by business_id. This will aggregate data for each business, which is what we need. This can be done using [groupby](https://pandas.pydata.org/pandas-docs/stable/generated/pandas.DataFrame.groupby.html).\n",
        "    - ```yelp_businesses = yelp_dataset.groupby('business_id').size() ```\n",
        "    - The .size() counts the number of instances for each business_id, which gives us the number of reviews as each instance in this dataset is a review.\n",
        "    - The following command will sort this list, after which you can take note of the highest value: ```sorted_yelp_businesses = yelp_businesses.sort_values(ascending=False, inplace=False)```\n",
        "    - This approach allows you to see the data structure being used in the sort. A quicker approach to getting the max would be to use the max function: ```max(yelp_businesses)```\n",
        "<br>\n",
        "<br>"
      ]
    },
    {
      "cell_type": "code",
      "metadata": {
        "deletable": false,
        "nbgrader": {
          "checksum": "a4b3a58ab839a93b83e514e1db0c11e3",
          "grade": false,
          "grade_id": "cell-b9fd95d084732ea0",
          "locked": false,
          "schema_version": 1,
          "solution": true
        },
        "id": "AbKk0rohItPG",
        "colab_type": "code",
        "colab": {}
      },
      "source": [
        "#Make sure you return the answer value in this function\n",
        "def q1(df):\n",
        "    \n",
        "    # YOUR CODE HERE\n",
        "    temp = df.groupby('business_id').size()\n",
        "    return temp.sort_values(ascending=False, inplace=False)[0]"
      ],
      "execution_count": 3,
      "outputs": []
    },
    {
      "cell_type": "code",
      "metadata": {
        "deletable": false,
        "editable": false,
        "nbgrader": {
          "checksum": "e989434a5e20d93eb1500308f7ecf163",
          "grade": true,
          "grade_id": "cell-1d1402069f0f336b",
          "locked": true,
          "points": 0.5,
          "schema_version": 1,
          "solution": false
        },
        "id": "rzD83og_ItPJ",
        "colab_type": "code",
        "colab": {
          "base_uri": "https://localhost:8080/",
          "height": 34
        },
        "outputId": "4b14dc99-cffc-4638-c3f9-703516a47db2"
      },
      "source": [
        "#This is an autograded cell, do not edit\n",
        "print(q1(df))\n"
      ],
      "execution_count": 4,
      "outputs": [
        {
          "output_type": "stream",
          "text": [
            "4128\n"
          ],
          "name": "stdout"
        }
      ]
    },
    {
      "cell_type": "markdown",
      "metadata": {
        "deletable": false,
        "editable": false,
        "nbgrader": {
          "checksum": "6cde0278ab840df1fb90b16ca8c14a8a",
          "grade": false,
          "grade_id": "cell-c998b50208612779",
          "locked": true,
          "schema_version": 1,
          "solution": false
        },
        "id": "fZ_McPZ-ItPL",
        "colab_type": "text"
      },
      "source": [
        "**Q2: What was the average number of reviews for a business_id?**"
      ]
    },
    {
      "cell_type": "code",
      "metadata": {
        "deletable": false,
        "nbgrader": {
          "checksum": "6ff0153f15cd01aa6d958646c22cd2eb",
          "grade": false,
          "grade_id": "cell-bda529e7277d1978",
          "locked": false,
          "schema_version": 1,
          "solution": true
        },
        "id": "0V-m-GMAItPM",
        "colab_type": "code",
        "colab": {}
      },
      "source": [
        "#Make sure you return the answer value in this function\n",
        "def q2(df):\n",
        "    \n",
        "    # YOUR CODE HERE\n",
        "    temp = df.groupby('business_id').size()\n",
        "    return temp.sort_values(ascending=False, inplace=False).mean()"
      ],
      "execution_count": 5,
      "outputs": []
    },
    {
      "cell_type": "code",
      "metadata": {
        "deletable": false,
        "editable": false,
        "nbgrader": {
          "checksum": "72d8375074f6e5eb294215044c460696",
          "grade": true,
          "grade_id": "cell-febce0a51b6da9da",
          "locked": true,
          "points": 0.5,
          "schema_version": 1,
          "solution": false
        },
        "id": "V_9IXDmvItPO",
        "colab_type": "code",
        "colab": {
          "base_uri": "https://localhost:8080/",
          "height": 34
        },
        "outputId": "59126aed-2ea8-466e-e7e0-41403383a3dc"
      },
      "source": [
        "#This is an autograded cell, do not edit\n",
        "print(q2(df))\n"
      ],
      "execution_count": 6,
      "outputs": [
        {
          "output_type": "stream",
          "text": [
            "12.63413902163123\n"
          ],
          "name": "stdout"
        }
      ]
    },
    {
      "cell_type": "markdown",
      "metadata": {
        "deletable": false,
        "editable": false,
        "nbgrader": {
          "checksum": "d6874779b6c6d2e361fc9891455b6960",
          "grade": false,
          "grade_id": "cell-a568a611d600caa2",
          "locked": true,
          "schema_version": 1,
          "solution": false
        },
        "id": "T9bRVaYZItPQ",
        "colab_type": "text"
      },
      "source": [
        "**Q3: What is the average number of reviews per reviewer?**"
      ]
    },
    {
      "cell_type": "code",
      "metadata": {
        "deletable": false,
        "nbgrader": {
          "checksum": "369c594937118aa98e0aea635c345943",
          "grade": false,
          "grade_id": "cell-f92e05c4b7a28174",
          "locked": false,
          "schema_version": 1,
          "solution": true
        },
        "id": "J58jfsKTItPQ",
        "colab_type": "code",
        "colab": {}
      },
      "source": [
        "#Make sure you return the answer value in this function\n",
        "\n",
        "\n",
        "def q3(df):\n",
        "    \n",
        "    # YOUR CODE HERE\n",
        "    temp = df.groupby('user_id').size()\n",
        "    return temp.sort_values(ascending=False, inplace=False).mean()"
      ],
      "execution_count": 7,
      "outputs": []
    },
    {
      "cell_type": "code",
      "metadata": {
        "deletable": false,
        "editable": false,
        "nbgrader": {
          "checksum": "7ed7ddd4ec46674bdd89445dc1034175",
          "grade": true,
          "grade_id": "cell-d76279e8e7d4a79f",
          "locked": true,
          "points": 0.5,
          "schema_version": 1,
          "solution": false
        },
        "id": "Wx5wcx6pItPT",
        "colab_type": "code",
        "colab": {
          "base_uri": "https://localhost:8080/",
          "height": 34
        },
        "outputId": "fb11c136-3c63-4da6-c0d2-2e1d79e12a13"
      },
      "source": [
        "#This is an autograded cell, do not edit\n",
        "print(q3(df))\n"
      ],
      "execution_count": 8,
      "outputs": [
        {
          "output_type": "stream",
          "text": [
            "3.188511934933203\n"
          ],
          "name": "stdout"
        }
      ]
    },
    {
      "cell_type": "markdown",
      "metadata": {
        "deletable": false,
        "editable": false,
        "nbgrader": {
          "checksum": "e8d5fd42acde59c3bd19cc07db76ac1c",
          "grade": false,
          "grade_id": "cell-c76f8dc8692f2472",
          "locked": true,
          "schema_version": 1,
          "solution": false
        },
        "id": "oa0doTGiItPW",
        "colab_type": "text"
      },
      "source": [
        "**Q4: Calculate the total cool votes per reviewer, then average these totals across reviewers.**"
      ]
    },
    {
      "cell_type": "code",
      "metadata": {
        "deletable": false,
        "nbgrader": {
          "checksum": "2db144055be1d1f506af2bbdcf924e58",
          "grade": false,
          "grade_id": "cell-f06192fbabe75195",
          "locked": false,
          "schema_version": 1,
          "solution": true
        },
        "id": "sWuWYjrSItPX",
        "colab_type": "code",
        "colab": {}
      },
      "source": [
        "#Make sure you return the answer value in this function\n",
        "def q4(df):\n",
        "    \n",
        "    # YOUR CODE HERE\n",
        "    temp = df.groupby('user_id').sum()\n",
        "    return temp['cool_votes'].mean()"
      ],
      "execution_count": 9,
      "outputs": []
    },
    {
      "cell_type": "code",
      "metadata": {
        "deletable": false,
        "editable": false,
        "nbgrader": {
          "checksum": "70b555da34836694349c4923beb1950b",
          "grade": true,
          "grade_id": "cell-cabbe00e6fee304e",
          "locked": true,
          "points": 0.5,
          "schema_version": 1,
          "solution": false
        },
        "id": "z3o9lMo-ItPZ",
        "colab_type": "code",
        "colab": {
          "base_uri": "https://localhost:8080/",
          "height": 34
        },
        "outputId": "eed26edc-09a0-47a2-ff6f-b50cb2f5f52c"
      },
      "source": [
        "#This is an autograded cell, do not edit\n",
        "print(q4(df))\n"
      ],
      "execution_count": 10,
      "outputs": [
        {
          "output_type": "stream",
          "text": [
            "1.2417282785380945\n"
          ],
          "name": "stdout"
        }
      ]
    },
    {
      "cell_type": "markdown",
      "metadata": {
        "deletable": false,
        "editable": false,
        "nbgrader": {
          "checksum": "1e80dfdd5311c1dd540fafe446ad10c3",
          "grade": false,
          "grade_id": "cell-9e278b8cd31ace62",
          "locked": true,
          "schema_version": 1,
          "solution": false
        },
        "id": "fDD4Lh8fItPb",
        "colab_type": "text"
      },
      "source": [
        "**Q5: Calculate the total funny votes per reviewer, then average these totals across reviewers.**"
      ]
    },
    {
      "cell_type": "code",
      "metadata": {
        "deletable": false,
        "nbgrader": {
          "checksum": "cb6393f6479792516d064ab368490d90",
          "grade": false,
          "grade_id": "cell-93635f0a6f297df9",
          "locked": false,
          "schema_version": 1,
          "solution": true
        },
        "id": "KiVt8qB7ItPc",
        "colab_type": "code",
        "colab": {}
      },
      "source": [
        "#Make sure you return the answer value in this function\n",
        "def q5(df):\n",
        "    \n",
        "    # YOUR CODE HERE\n",
        "    temp = df.groupby('user_id').sum()\n",
        "    return temp['funny_votes'].mean()"
      ],
      "execution_count": 11,
      "outputs": []
    },
    {
      "cell_type": "code",
      "metadata": {
        "deletable": false,
        "editable": false,
        "nbgrader": {
          "checksum": "d3be5fcefa0f798be6504de7f8f1b344",
          "grade": true,
          "grade_id": "cell-4c41413214d2d4f1",
          "locked": true,
          "points": 0.5,
          "schema_version": 1,
          "solution": false
        },
        "id": "bWzUljWAItPe",
        "colab_type": "code",
        "colab": {
          "base_uri": "https://localhost:8080/",
          "height": 34
        },
        "outputId": "e35f25b4-9f2d-46d1-b770-bb8ecd269298"
      },
      "source": [
        "#This is an autograded cell, do not edit\n",
        "print(q5(df))\n"
      ],
      "execution_count": 12,
      "outputs": [
        {
          "output_type": "stream",
          "text": [
            "1.10126486404605\n"
          ],
          "name": "stdout"
        }
      ]
    },
    {
      "cell_type": "markdown",
      "metadata": {
        "deletable": false,
        "editable": false,
        "nbgrader": {
          "checksum": "e62dd2a28323b8d943f63dda321c3aea",
          "grade": false,
          "grade_id": "cell-9554ed7bdee76fb1",
          "locked": true,
          "schema_version": 1,
          "solution": false
        },
        "id": "qx0rBKw9ItPg",
        "colab_type": "text"
      },
      "source": [
        "**Q6: Calculate the total useful votes per reviewer, then average these totals across reviewers.**"
      ]
    },
    {
      "cell_type": "code",
      "metadata": {
        "deletable": false,
        "nbgrader": {
          "checksum": "4375ea8e9efa96b5ea65a2f4f553faad",
          "grade": false,
          "grade_id": "cell-2cebd87b7f8b37d1",
          "locked": false,
          "schema_version": 1,
          "solution": true
        },
        "id": "KIYaRM3uItPh",
        "colab_type": "code",
        "colab": {}
      },
      "source": [
        "#Make sure you return the answer in this function\n",
        "def q6(df):\n",
        "    \n",
        "    # YOUR CODE HERE\n",
        "    temp = df.groupby('user_id').sum()\n",
        "    return temp['useful_votes'].mean()"
      ],
      "execution_count": 13,
      "outputs": []
    },
    {
      "cell_type": "code",
      "metadata": {
        "deletable": false,
        "editable": false,
        "nbgrader": {
          "checksum": "2435ef28744576ab65e21558b65e0a5e",
          "grade": true,
          "grade_id": "cell-1a546329acbcd0e4",
          "locked": true,
          "points": 0.5,
          "schema_version": 1,
          "solution": false
        },
        "id": "xrNe4FWdItPj",
        "colab_type": "code",
        "colab": {
          "base_uri": "https://localhost:8080/",
          "height": 34
        },
        "outputId": "943b0ae3-d70b-458c-ee66-ebd0fadfccd1"
      },
      "source": [
        "#This is an autograded cell, do not edit\n",
        "print(q6(df))\n"
      ],
      "execution_count": 14,
      "outputs": [
        {
          "output_type": "stream",
          "text": [
            "2.484476138872867\n"
          ],
          "name": "stdout"
        }
      ]
    },
    {
      "cell_type": "markdown",
      "metadata": {
        "deletable": false,
        "editable": false,
        "nbgrader": {
          "checksum": "560323764f6c0effd9615228a4dd9537",
          "grade": false,
          "grade_id": "cell-328aa1a4c9a958d8",
          "locked": true,
          "schema_version": 1,
          "solution": false
        },
        "id": "yUBt7rj9ItP-",
        "colab_type": "text"
      },
      "source": [
        "**Q7: On average, what percentage of a reviewer's votes are cool votes?**\n",
        "\n",
        "(hint1: calculate the percentage of cool votes for each reviewer, then average across reviewers)\n",
        "\n",
        "(hint2: you should discard reviewers who have zero total votes from your calculation)"
      ]
    },
    {
      "cell_type": "code",
      "metadata": {
        "deletable": false,
        "nbgrader": {
          "checksum": "c4ca0edbf727b2adc41527ebb2129cef",
          "grade": false,
          "grade_id": "cell-54fe5dd9777347a1",
          "locked": false,
          "schema_version": 1,
          "solution": true
        },
        "id": "LuFzcyytItP-",
        "colab_type": "code",
        "colab": {}
      },
      "source": [
        "#Make sure you return the answer in this function\n",
        "#Remember to multiply by 100 for percentages\n",
        "def q7(df):\n",
        "    \n",
        "    # YOUR CODE HERE\n",
        "    temp = df.groupby('user_id').sum()\n",
        "    temp['totals'] = temp['cool_votes'] + temp['funny_votes'] + temp['useful_votes']\n",
        "    temp = temp[temp['totals'] != 0]\n",
        "    avgs = temp['cool_votes']/temp['totals']\n",
        "    return avgs.mean() * 100"
      ],
      "execution_count": 15,
      "outputs": []
    },
    {
      "cell_type": "code",
      "metadata": {
        "deletable": false,
        "editable": false,
        "nbgrader": {
          "checksum": "6ba2d96b43cc0796b9c8ec31e17fefe9",
          "grade": true,
          "grade_id": "cell-594b1121d785d15e",
          "locked": true,
          "points": 0.5,
          "schema_version": 1,
          "solution": false
        },
        "id": "ftY6isjeItQA",
        "colab_type": "code",
        "colab": {
          "base_uri": "https://localhost:8080/",
          "height": 34
        },
        "outputId": "d7ea6819-2013-41ad-cc61-7a37ce955b11"
      },
      "source": [
        "#This is an autograded cell, do not edit\n",
        "#Remember to multiply by 100 for percentages\n",
        "print(round(q7(df),2))\n"
      ],
      "execution_count": 16,
      "outputs": [
        {
          "output_type": "stream",
          "text": [
            "19.27\n"
          ],
          "name": "stdout"
        }
      ]
    },
    {
      "cell_type": "markdown",
      "metadata": {
        "deletable": false,
        "editable": false,
        "nbgrader": {
          "checksum": "f7ca49268591f6d357d5e4d4be17e3c9",
          "grade": false,
          "grade_id": "cell-8b434399df89705e",
          "locked": true,
          "schema_version": 1,
          "solution": false
        },
        "id": "zKe8LJJLItQC",
        "colab_type": "text"
      },
      "source": [
        "**Q8: On average, what percentage of a reviewer's votes are funny votes?**\n",
        "\n",
        "(hint1: calculate the percentage of funny votes for each reviewer, then average across reviewers)\n",
        "\n",
        "(hint2: you should discard reviewers who have zero total votes from your calculation)"
      ]
    },
    {
      "cell_type": "code",
      "metadata": {
        "deletable": false,
        "nbgrader": {
          "checksum": "b869bd5447e8ea81d0af3cae06012b94",
          "grade": false,
          "grade_id": "cell-a3dc739b16a53957",
          "locked": false,
          "schema_version": 1,
          "solution": true
        },
        "id": "DkXVxKdXItQC",
        "colab_type": "code",
        "colab": {}
      },
      "source": [
        "#Make sure you return the answer in this function\n",
        "#Remember to multiply by 100 for percentages\n",
        "def q8(df):\n",
        "    \n",
        "    # YOUR CODE HERE\n",
        "    temp = df.groupby('user_id').sum()\n",
        "    temp['totals'] = temp['cool_votes'] + temp['funny_votes'] + temp['useful_votes']\n",
        "    temp = temp[temp['totals'] != 0]\n",
        "    avgs = temp['funny_votes']/temp['totals']\n",
        "    return avgs.mean() * 100"
      ],
      "execution_count": 17,
      "outputs": []
    },
    {
      "cell_type": "code",
      "metadata": {
        "deletable": false,
        "editable": false,
        "nbgrader": {
          "checksum": "2ef3655caaaedc3e433262c7db94fb77",
          "grade": true,
          "grade_id": "cell-e7fdee0fd548baf1",
          "locked": true,
          "points": 0.5,
          "schema_version": 1,
          "solution": false
        },
        "id": "q6uEzM9HItQE",
        "colab_type": "code",
        "colab": {
          "base_uri": "https://localhost:8080/",
          "height": 34
        },
        "outputId": "ce70cfb9-dcd5-401d-83fd-a2eb230c5417"
      },
      "source": [
        "#This is an autograded cell, do not edit\n",
        "print(round(q8(df),2))\n"
      ],
      "execution_count": 18,
      "outputs": [
        {
          "output_type": "stream",
          "text": [
            "18.26\n"
          ],
          "name": "stdout"
        }
      ]
    },
    {
      "cell_type": "markdown",
      "metadata": {
        "deletable": false,
        "editable": false,
        "nbgrader": {
          "checksum": "3ce1c8eefc6053b8515dc4218c5a0afb",
          "grade": false,
          "grade_id": "cell-40cd96c922286117",
          "locked": true,
          "schema_version": 1,
          "solution": false
        },
        "id": "wYs2eqhSItQI",
        "colab_type": "text"
      },
      "source": [
        "**Q9: On average, what percentage of a reviewer's votes are useful votes?**\n",
        "\n",
        "(hint1: calculate the percentage of useful votes for each reviewer, then average across reviewers)\n",
        "\n",
        "(hint2: you should discard reviewers who have zero total votes from your calculation)"
      ]
    },
    {
      "cell_type": "code",
      "metadata": {
        "deletable": false,
        "nbgrader": {
          "checksum": "c8e322eafbf209672785a2c9f7c97f52",
          "grade": false,
          "grade_id": "cell-38769f4cbbe9cb8f",
          "locked": false,
          "schema_version": 1,
          "solution": true
        },
        "id": "56CBDjgrItQI",
        "colab_type": "code",
        "colab": {}
      },
      "source": [
        "#Make sure you return the answer in this function\n",
        "def q9(df):\n",
        "    \n",
        "    # YOUR CODE HERE\n",
        "    temp = df.groupby('user_id').sum()\n",
        "    temp['totals'] = temp['cool_votes'] + temp['funny_votes'] + temp['useful_votes']\n",
        "    temp = temp[temp['totals'] != 0]\n",
        "    avgs = temp['useful_votes']/temp['totals']\n",
        "    return avgs.mean() * 100"
      ],
      "execution_count": 19,
      "outputs": []
    },
    {
      "cell_type": "code",
      "metadata": {
        "deletable": false,
        "editable": false,
        "nbgrader": {
          "checksum": "d3aeca2366b4c12d564167261c6bc6a2",
          "grade": true,
          "grade_id": "cell-590fb1425068cc06",
          "locked": true,
          "points": 0.5,
          "schema_version": 1,
          "solution": false
        },
        "id": "LvE8ZWSOItQL",
        "colab_type": "code",
        "colab": {
          "base_uri": "https://localhost:8080/",
          "height": 34
        },
        "outputId": "9d75379d-127a-46e2-991e-24da92590171"
      },
      "source": [
        "#This is an autograded cell, do not edit\n",
        "print(round(q9(df),2))\n"
      ],
      "execution_count": 20,
      "outputs": [
        {
          "output_type": "stream",
          "text": [
            "62.47\n"
          ],
          "name": "stdout"
        }
      ]
    },
    {
      "cell_type": "markdown",
      "metadata": {
        "deletable": false,
        "editable": false,
        "nbgrader": {
          "checksum": "2efdbde3ea13f0e1829d7488da2c6d92",
          "grade": false,
          "grade_id": "cell-615a3d7b2c4e0e26",
          "locked": true,
          "schema_version": 1,
          "solution": false
        },
        "id": "2ixankjPItQO",
        "colab_type": "text"
      },
      "source": [
        "**Q10: Average review text length (in non-space characters)**"
      ]
    },
    {
      "cell_type": "code",
      "metadata": {
        "deletable": false,
        "nbgrader": {
          "checksum": "59cc81340d9a1967bd6d3a0ffcacdcf3",
          "grade": false,
          "grade_id": "cell-75ec15303c64c506",
          "locked": false,
          "schema_version": 1,
          "solution": true
        },
        "id": "qgwHiHaVItQP",
        "colab_type": "code",
        "colab": {}
      },
      "source": [
        "#Make sure you return the answer in this function\n",
        "def q10(df):\n",
        "    \n",
        "    # YOUR CODE HERE\n",
        "    return (df['text'].str.len() - df['text'].str.count(\" \")).mean()"
      ],
      "execution_count": 21,
      "outputs": []
    },
    {
      "cell_type": "code",
      "metadata": {
        "deletable": false,
        "editable": false,
        "nbgrader": {
          "checksum": "083e5ff6b77629d8784b8f6a30352251",
          "grade": true,
          "grade_id": "cell-d9fb4fc39a0b21c4",
          "locked": true,
          "points": 1,
          "schema_version": 1,
          "solution": false
        },
        "id": "_XmxRXdFItQQ",
        "colab_type": "code",
        "colab": {
          "base_uri": "https://localhost:8080/",
          "height": 34
        },
        "outputId": "961e40ee-31f1-493c-a73e-54fadc15fcb7"
      },
      "source": [
        "#This is an autograded cell, do not edit\n",
        "print(round(q10(df),0))\n"
      ],
      "execution_count": 22,
      "outputs": [
        {
          "output_type": "stream",
          "text": [
            "499.0\n"
          ],
          "name": "stdout"
        }
      ]
    },
    {
      "cell_type": "markdown",
      "metadata": {
        "deletable": false,
        "editable": false,
        "nbgrader": {
          "checksum": "54c8c584ece619ea786165e50a4e1002",
          "grade": false,
          "grade_id": "cell-a21a423546eb8654",
          "locked": true,
          "schema_version": 1,
          "solution": false
        },
        "id": "03gWN2PAItQS",
        "colab_type": "text"
      },
      "source": [
        "\n",
        "\n",
        "```\n",
        "# This is formatted as code\n",
        "```\n",
        "\n",
        "**Q11: Year in which the reviewer wrote the most reviews. Once you have this for each reviewer, subtract the minimum possible year (2004) from each so that your final feature values are 0, 1, 2 etc.**"
      ]
    },
    {
      "cell_type": "code",
      "metadata": {
        "deletable": false,
        "nbgrader": {
          "checksum": "d6d5ba528ca188b45b1e36e5385caab0",
          "grade": true,
          "grade_id": "cell-5c7a809865483dca",
          "locked": false,
          "points": 1.5,
          "schema_version": 1,
          "solution": true
        },
        "id": "XideHYGkItQT",
        "colab_type": "code",
        "colab": {
          "base_uri": "https://localhost:8080/",
          "height": 450
        },
        "outputId": "3f02477b-1572-49cd-d3b7-32b9f4e9646e"
      },
      "source": [
        "# YOUR CODE HERE\n",
        "pd.to_datetime(df['date'])\n",
        "df['year'] = pd.DatetimeIndex(df['date']).year\n",
        "temp = df.groupby(['user_id','year']).size().reset_index()\n",
        "temp1 = temp.groupby('user_id').max()\n",
        "temp1.rename(columns={0:\"number of reviews\"}, inplace=True)\n",
        "temp1['year - min year'] = temp1['year'] - 2004\n",
        "temp1"
      ],
      "execution_count": 23,
      "outputs": [
        {
          "output_type": "execute_result",
          "data": {
            "text/html": [
              "<div>\n",
              "<style scoped>\n",
              "    .dataframe tbody tr th:only-of-type {\n",
              "        vertical-align: middle;\n",
              "    }\n",
              "\n",
              "    .dataframe tbody tr th {\n",
              "        vertical-align: top;\n",
              "    }\n",
              "\n",
              "    .dataframe thead th {\n",
              "        text-align: right;\n",
              "    }\n",
              "</style>\n",
              "<table border=\"1\" class=\"dataframe\">\n",
              "  <thead>\n",
              "    <tr style=\"text-align: right;\">\n",
              "      <th></th>\n",
              "      <th>year</th>\n",
              "      <th>number of reviews</th>\n",
              "      <th>year - min year</th>\n",
              "    </tr>\n",
              "    <tr>\n",
              "      <th>user_id</th>\n",
              "      <th></th>\n",
              "      <th></th>\n",
              "      <th></th>\n",
              "    </tr>\n",
              "  </thead>\n",
              "  <tbody>\n",
              "    <tr>\n",
              "      <th>--1Y03CEKR3WDbBjYnsW7A</th>\n",
              "      <td>2011</td>\n",
              "      <td>1</td>\n",
              "      <td>7</td>\n",
              "    </tr>\n",
              "    <tr>\n",
              "      <th>--2QZsyXGz1OhiD4-0FQLQ</th>\n",
              "      <td>2014</td>\n",
              "      <td>3</td>\n",
              "      <td>10</td>\n",
              "    </tr>\n",
              "    <tr>\n",
              "      <th>--82_AVgRBsLw6Dhy8sEnA</th>\n",
              "      <td>2008</td>\n",
              "      <td>1</td>\n",
              "      <td>4</td>\n",
              "    </tr>\n",
              "    <tr>\n",
              "      <th>--8A9o_NeGyt_3kzlXtSdg</th>\n",
              "      <td>2016</td>\n",
              "      <td>2</td>\n",
              "      <td>12</td>\n",
              "    </tr>\n",
              "    <tr>\n",
              "      <th>--8WbseBk1NjfPiZWjQ-XQ</th>\n",
              "      <td>2016</td>\n",
              "      <td>4</td>\n",
              "      <td>12</td>\n",
              "    </tr>\n",
              "    <tr>\n",
              "      <th>...</th>\n",
              "      <td>...</td>\n",
              "      <td>...</td>\n",
              "      <td>...</td>\n",
              "    </tr>\n",
              "    <tr>\n",
              "      <th>zzv762b871Wp3SVxsFQqHw</th>\n",
              "      <td>2015</td>\n",
              "      <td>1</td>\n",
              "      <td>11</td>\n",
              "    </tr>\n",
              "    <tr>\n",
              "      <th>zzvflqB4xAcKFbIbS6HSOw</th>\n",
              "      <td>2014</td>\n",
              "      <td>10</td>\n",
              "      <td>10</td>\n",
              "    </tr>\n",
              "    <tr>\n",
              "      <th>zzwu0nG0MCUP43zNSr5k-A</th>\n",
              "      <td>2015</td>\n",
              "      <td>1</td>\n",
              "      <td>11</td>\n",
              "    </tr>\n",
              "    <tr>\n",
              "      <th>zzx-JA0qEz5eTO3GMv99NA</th>\n",
              "      <td>2015</td>\n",
              "      <td>1</td>\n",
              "      <td>11</td>\n",
              "    </tr>\n",
              "    <tr>\n",
              "      <th>zzyeArRv6I5HpEJlOCOPAQ</th>\n",
              "      <td>2016</td>\n",
              "      <td>1</td>\n",
              "      <td>12</td>\n",
              "    </tr>\n",
              "  </tbody>\n",
              "</table>\n",
              "<p>171639 rows × 3 columns</p>\n",
              "</div>"
            ],
            "text/plain": [
              "                        year  number of reviews  year - min year\n",
              "user_id                                                         \n",
              "--1Y03CEKR3WDbBjYnsW7A  2011                  1                7\n",
              "--2QZsyXGz1OhiD4-0FQLQ  2014                  3               10\n",
              "--82_AVgRBsLw6Dhy8sEnA  2008                  1                4\n",
              "--8A9o_NeGyt_3kzlXtSdg  2016                  2               12\n",
              "--8WbseBk1NjfPiZWjQ-XQ  2016                  4               12\n",
              "...                      ...                ...              ...\n",
              "zzv762b871Wp3SVxsFQqHw  2015                  1               11\n",
              "zzvflqB4xAcKFbIbS6HSOw  2014                 10               10\n",
              "zzwu0nG0MCUP43zNSr5k-A  2015                  1               11\n",
              "zzx-JA0qEz5eTO3GMv99NA  2015                  1               11\n",
              "zzyeArRv6I5HpEJlOCOPAQ  2016                  1               12\n",
              "\n",
              "[171639 rows x 3 columns]"
            ]
          },
          "metadata": {
            "tags": []
          },
          "execution_count": 23
        }
      ]
    },
    {
      "cell_type": "markdown",
      "metadata": {
        "deletable": false,
        "editable": false,
        "nbgrader": {
          "checksum": "93f7e9ef2385bdac5184802eb7e1ce75",
          "grade": false,
          "grade_id": "cell-da33d981591f0ff3",
          "locked": true,
          "schema_version": 1,
          "solution": false
        },
        "id": "waqvrQeDItQV",
        "colab_type": "text"
      },
      "source": [
        "**Q12: Come up with a new feature for every review. This may be derived from existing features.\n",
        "Give your feature the name *my_new_feature.* Display head() of this new feature.**"
      ]
    },
    {
      "cell_type": "code",
      "metadata": {
        "id": "3fSBPsoZ0zbq",
        "colab_type": "code",
        "colab": {
          "base_uri": "https://localhost:8080/",
          "height": 408
        },
        "outputId": "96f4ea73-a018-4412-f5be-311933a1e613"
      },
      "source": [
        "# YOUR CODE HERE - my new feature sees if this review is positive compared to other reviews the reviwer gave\n",
        "s = df.groupby('user_id').mean()['stars'].reset_index()\n",
        "s.rename(columns={'stars':\"reviwer avg\"}, inplace=True)\n",
        "new = df.join(s.set_index('user_id'), on = 'user_id')\n",
        "diff = (new['stars'] - new['reviwer avg']).to_list()\n",
        "diff = np.array(diff)\n",
        "\n",
        "mnf = []\n",
        "for i in np.arange(len(diff)):\n",
        "  if (diff[i] > 0):\n",
        "    mnf.append('positive')\n",
        "  elif (diff[i] < 0):\n",
        "    mnf.append('negative')\n",
        "  else:\n",
        "    mnf.append('average')\n",
        "\n",
        "new['my_new_feature'] = mnf\n",
        "new.head()"
      ],
      "execution_count": 24,
      "outputs": [
        {
          "output_type": "execute_result",
          "data": {
            "text/html": [
              "<div>\n",
              "<style scoped>\n",
              "    .dataframe tbody tr th:only-of-type {\n",
              "        vertical-align: middle;\n",
              "    }\n",
              "\n",
              "    .dataframe tbody tr th {\n",
              "        vertical-align: top;\n",
              "    }\n",
              "\n",
              "    .dataframe thead th {\n",
              "        text-align: right;\n",
              "    }\n",
              "</style>\n",
              "<table border=\"1\" class=\"dataframe\">\n",
              "  <thead>\n",
              "    <tr style=\"text-align: right;\">\n",
              "      <th></th>\n",
              "      <th>type</th>\n",
              "      <th>business_id</th>\n",
              "      <th>user_id</th>\n",
              "      <th>stars</th>\n",
              "      <th>text</th>\n",
              "      <th>date</th>\n",
              "      <th>cool_votes</th>\n",
              "      <th>useful_votes</th>\n",
              "      <th>funny_votes</th>\n",
              "      <th>year</th>\n",
              "      <th>reviwer avg</th>\n",
              "      <th>my_new_feature</th>\n",
              "    </tr>\n",
              "  </thead>\n",
              "  <tbody>\n",
              "    <tr>\n",
              "      <th>0</th>\n",
              "      <td>review</td>\n",
              "      <td>mxrXVZWc6PWk81gvOVNOUw</td>\n",
              "      <td>mv7shusL4Xb6TylVYBv4CA</td>\n",
              "      <td>4</td>\n",
              "      <td>Definitely try the duck dish.   I rank it amon...</td>\n",
              "      <td>2011-06-13</td>\n",
              "      <td>0</td>\n",
              "      <td>0</td>\n",
              "      <td>0</td>\n",
              "      <td>2011</td>\n",
              "      <td>4.000000</td>\n",
              "      <td>average</td>\n",
              "    </tr>\n",
              "    <tr>\n",
              "      <th>1</th>\n",
              "      <td>review</td>\n",
              "      <td>mxrXVZWc6PWk81gvOVNOUw</td>\n",
              "      <td>0aN5QPhs-VwK2vusKG0waQ</td>\n",
              "      <td>5</td>\n",
              "      <td>Big Ass Burger was awesome! Great $5 mojitos. ...</td>\n",
              "      <td>2011-06-25</td>\n",
              "      <td>1</td>\n",
              "      <td>0</td>\n",
              "      <td>0</td>\n",
              "      <td>2011</td>\n",
              "      <td>5.000000</td>\n",
              "      <td>average</td>\n",
              "    </tr>\n",
              "    <tr>\n",
              "      <th>2</th>\n",
              "      <td>review</td>\n",
              "      <td>kK4AzZ0YWI-U2G-paAL7Fg</td>\n",
              "      <td>0aN5QPhs-VwK2vusKG0waQ</td>\n",
              "      <td>5</td>\n",
              "      <td>Unbelievable sandwiches! Good service.</td>\n",
              "      <td>2011-06-25</td>\n",
              "      <td>0</td>\n",
              "      <td>0</td>\n",
              "      <td>0</td>\n",
              "      <td>2011</td>\n",
              "      <td>5.000000</td>\n",
              "      <td>average</td>\n",
              "    </tr>\n",
              "    <tr>\n",
              "      <th>3</th>\n",
              "      <td>review</td>\n",
              "      <td>mxrXVZWc6PWk81gvOVNOUw</td>\n",
              "      <td>1JUwyYab-uJzEx_FRd81Zg</td>\n",
              "      <td>5</td>\n",
              "      <td>Awesome, awesome, awesome! My mom and sister a...</td>\n",
              "      <td>2011-07-18</td>\n",
              "      <td>1</td>\n",
              "      <td>1</td>\n",
              "      <td>0</td>\n",
              "      <td>2011</td>\n",
              "      <td>5.000000</td>\n",
              "      <td>average</td>\n",
              "    </tr>\n",
              "    <tr>\n",
              "      <th>4</th>\n",
              "      <td>review</td>\n",
              "      <td>mxrXVZWc6PWk81gvOVNOUw</td>\n",
              "      <td>2Zd3Xy8hUVmZkNg7RyNjhg</td>\n",
              "      <td>4</td>\n",
              "      <td>I had the ribs they were great.  The beer sele...</td>\n",
              "      <td>2011-07-19</td>\n",
              "      <td>1</td>\n",
              "      <td>0</td>\n",
              "      <td>1</td>\n",
              "      <td>2011</td>\n",
              "      <td>3.470588</td>\n",
              "      <td>positive</td>\n",
              "    </tr>\n",
              "  </tbody>\n",
              "</table>\n",
              "</div>"
            ],
            "text/plain": [
              "     type             business_id  ... reviwer avg  my_new_feature\n",
              "0  review  mxrXVZWc6PWk81gvOVNOUw  ...    4.000000         average\n",
              "1  review  mxrXVZWc6PWk81gvOVNOUw  ...    5.000000         average\n",
              "2  review  kK4AzZ0YWI-U2G-paAL7Fg  ...    5.000000         average\n",
              "3  review  mxrXVZWc6PWk81gvOVNOUw  ...    5.000000         average\n",
              "4  review  mxrXVZWc6PWk81gvOVNOUw  ...    3.470588        positive\n",
              "\n",
              "[5 rows x 12 columns]"
            ]
          },
          "metadata": {
            "tags": []
          },
          "execution_count": 24
        }
      ]
    }
  ]
}